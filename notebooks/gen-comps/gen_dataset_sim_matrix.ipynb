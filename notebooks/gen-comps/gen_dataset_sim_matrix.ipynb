{
 "cells": [
  {
   "cell_type": "code",
   "execution_count": 2,
   "metadata": {},
   "outputs": [],
   "source": [
    "import zipfile\n",
    "import os\n",
    "import sys\n",
    "import math\n",
    "\n",
    "from collections import defaultdict\n",
    "\n",
    "import pandas as pd\n",
    "import numpy as np\n",
    "from bitarray import bitarray\n",
    "import ngram\n",
    "from tqdm.notebook import trange, tqdm\n",
    "\n",
    "sys.path.append(\"..\"+os.sep+\"libs\"+os.sep)\n",
    "from datasetutil import open_processed_ds , gerar_gabarito \n",
    "\n",
    "sys.path.append(\"..\"+os.sep+\"..\"+os.sep)\n",
    "from atuc.utils.file import open_ds\n",
    "from pprl_utils.encrypt import compare_ds , compare_ds_based_on_blk"
   ]
  },
  {
   "cell_type": "markdown",
   "metadata": {},
   "source": [
    "# Methods"
   ]
  },
  {
   "cell_type": "code",
   "execution_count": 3,
   "metadata": {
    "init_cell": true
   },
   "outputs": [],
   "source": [
    "from dateutil.parser import parse\n",
    "\n",
    "def converter_data(date):\n",
    "    try:\n",
    "    #     date = 'October 18th 2010'\n",
    "        dt = parse(date)\n",
    "        return str(dt.month) +\"/\"+ str(dt.year)\n",
    "    except Exception:\n",
    "        return ''"
   ]
  },
  {
   "cell_type": "code",
   "execution_count": 4,
   "metadata": {
    "init_cell": true
   },
   "outputs": [],
   "source": [
    "# def get_chave(df,posicao_chave=1,n_char=2):\n",
    "#     return a.iloc[:,posicao_chave].astype(str).str[0:n_char]\n",
    "def get_chave(df,blk_key1=1,blk_key2=None,n_char=2):\n",
    "    if blk_key2 != None:\n",
    "        return a.iloc[:,blk_key1].astype(str).str[0:n_char] + a.iloc[:,blk_key2].astype(str).str[0:n_char]\n",
    "    return a.iloc[:,blk_key1].astype(str).str[0:n_char]"
   ]
  },
  {
   "cell_type": "code",
   "execution_count": 5,
   "metadata": {
    "init_cell": true
   },
   "outputs": [],
   "source": [
    "def blocar(df1,df2):\n",
    "    saida = []\n",
    "\n",
    "    for bk in df1.blk_key.unique():\n",
    "        sel_df1 = df1[df1.blk_key == bk]\n",
    "        sel_df2 = df2[df2.blk_key == bk]\n",
    "\n",
    "        if (len(sel_df1) == 0) or (len(sel_df2) == 0):\n",
    "            pass\n",
    "        else:\n",
    "            for id_a in sel_df1.iloc[:,0]:\n",
    "                for id_b in sel_df2.iloc[:,0]:\n",
    "                    row = {'id1': id_a,'id2': id_b}\n",
    "                    saida.append(row)\n",
    "\n",
    "    return pd.DataFrame(saida)"
   ]
  },
  {
   "cell_type": "markdown",
   "metadata": {},
   "source": [
    "### salva as comparacoes"
   ]
  },
  {
   "cell_type": "code",
   "execution_count": 6,
   "metadata": {},
   "outputs": [],
   "source": [
    "def salvar_comparacoes(bf_len,dfa,dfb,gs,list_atts,names_atts,outdir,filename,baseado_no_gabarito=True):\n",
    "    assert len(list_atts) == len(names_atts)\n",
    "\n",
    "    stats = []\n",
    "\n",
    "    # compaacoes\n",
    "    #salvar resultados\n",
    "    outfile = outdir + filename + '.zip'\n",
    "    with zipfile.ZipFile(outfile, 'w' , zipfile.ZIP_DEFLATED) as csv_zip:\n",
    "        \n",
    "        for i in trange(0,len(list_atts)):\n",
    "            atts = list_atts[i]\n",
    "            if baseado_no_gabarito:\n",
    "                ds, stat = compare_ds_based_on_blk(dfa,dfb,atts,gs,bf_len)\n",
    "            else:\n",
    "                ds, stat = compare_ds(dfa,dfb,atts,gs,bf_len)\n",
    "#             print(len(ds[ds.is_match == 1]))\n",
    "            att = names_atts[i]\n",
    "            infile_ = filename + '-atts-' + att +'.csv'\n",
    "            csv_zip.writestr(infile_, ds .to_csv(sep=';',index=False))\n",
    "            \n",
    "            del ds\n",
    "            stats.append(stat)\n",
    "            \n",
    "        csv_zip.writestr('estatiscas.txt', pd.DataFrame(stats) .to_csv(sep=';',index=False))"
   ]
  },
  {
   "cell_type": "code",
   "execution_count": 7,
   "metadata": {},
   "outputs": [],
   "source": [
    "def salvar_ds_blocado(a,b,gold,\n",
    "                      list_atts,names_atts,\n",
    "                      out_dir,filename,\n",
    "                      nchar_key_list,blk_key1=1,blk_key2=None,bigrams=2):\n",
    "    assert len(list_atts) == len(names_atts)\n",
    "    \n",
    "    outfile = out_dir + filename + '.zip'\n",
    "    with zipfile.ZipFile(outfile, 'w' , zipfile.ZIP_DEFLATED) as csv_zip:\n",
    "        for nchar_key in tqdm(nchar_key_list):\n",
    "            a['blk_key'] = get_chave(a,n_char=nchar_key,blk_key1=blk_key1,blk_key2=blk_key2)\n",
    "            b['blk_key'] = get_chave(b,n_char=nchar_key,blk_key1=blk_key1,blk_key2=blk_key2)\n",
    "            blocagem = blocar(a,b)\n",
    "\n",
    "            for i in trange(0,len(list_atts)):\n",
    "                stats = []\n",
    "                atts = list_atts[i]\n",
    "                att = names_atts[i]\n",
    "                \n",
    "                infile_ = filename + '-atts-' + str(att) +'-blk-'+str(nchar_key)+'.csv'\n",
    "                \n",
    "                ds, stat = compare_ds_based_on_blk(a, b, atts, gold, bf_len, blocagem, bigrams=bigrams)\n",
    "                csv_zip.writestr(infile_, ds .to_csv(sep=';',index=False))\n",
    "\n",
    "                del ds\n",
    "                stats.append(stat)\n",
    "                stats_file = 'estatiscas-atts-' + att +'-blk-'+str(nchar_key)+'.txt'\n",
    "                csv_zip.writestr(stats_file, pd.DataFrame(stats) .to_csv(sep=';',index=False))"
   ]
  },
  {
   "cell_type": "markdown",
   "metadata": {},
   "source": [
    "# Global Variables"
   ]
  },
  {
   "cell_type": "code",
   "execution_count": 8,
   "metadata": {
    "init_cell": true
   },
   "outputs": [],
   "source": [
    "datasets_dir = '..'+os.sep +'..'+os.sep +'datasets' + os.sep\n",
    "dataset_out_put_dir = '..'+os.sep +'..'+os.sep +'datasets_comps' + os.sep"
   ]
  },
  {
   "cell_type": "markdown",
   "metadata": {},
   "source": [
    "# Dataset Pessoas"
   ]
  },
  {
   "cell_type": "markdown",
   "metadata": {},
   "source": [
    "## Census"
   ]
  },
  {
   "cell_type": "code",
   "execution_count": 34,
   "metadata": {},
   "outputs": [],
   "source": [
    "ds_dir = \"census\" + os.sep\n",
    "ds_file = \"processed_census.zip\"\n",
    "out_dir = dataset_out_put_dir + ds_dir\n",
    "os.makedirs(out_dir,exist_ok=True)\n",
    "\n",
    "bf_len=100\n",
    "\n",
    "blk_keys = [ 2,3,4 ]\n",
    "\n",
    "out_filename = 'comparison_census' \n",
    "\n",
    "zatts_list  = [ [1,2] , [1,2,4] , [1,2,4,5] , [1,3,2,4,5] ]\n",
    "zatts_names = [ '1' , '2' , '3' , '4' ]\n",
    "\n",
    "zdf = datasets_dir + ds_dir + ds_file\n",
    "a,b,gold = open_processed_ds(zdf)\n",
    "\n",
    "a.zip_code = a.zip_code.astype(str)\n",
    "b.zip_code = b.zip_code.astype(str)\n",
    "gabarito = gerar_gabarito(gold)"
   ]
  },
  {
   "cell_type": "markdown",
   "metadata": {},
   "source": [
    "salvar dados full"
   ]
  },
  {
   "cell_type": "code",
   "execution_count": null,
   "metadata": {},
   "outputs": [],
   "source": [
    "salvar_comparacoes(bf_len,a,b,gabarito,zatts_list,zatts_names,dataset_out_put_dir,out_filename,baseado_no_gabarito=False)"
   ]
  },
  {
   "cell_type": "markdown",
   "metadata": {},
   "source": [
    "blocando"
   ]
  },
  {
   "cell_type": "code",
   "execution_count": 37,
   "metadata": {},
   "outputs": [
    {
     "data": {
      "application/vnd.jupyter.widget-view+json": {
       "model_id": "01c463d33f8b45e98d8c21bf0c999ad5",
       "version_major": 2,
       "version_minor": 0
      },
      "text/plain": [
       "  0%|          | 0/3 [00:00<?, ?it/s]"
      ]
     },
     "metadata": {},
     "output_type": "display_data"
    },
    {
     "data": {
      "application/vnd.jupyter.widget-view+json": {
       "model_id": "f811f6216fec4c3b97c79cafc0346d82",
       "version_major": 2,
       "version_minor": 0
      },
      "text/plain": [
       "  0%|          | 0/4 [00:00<?, ?it/s]"
      ]
     },
     "metadata": {},
     "output_type": "display_data"
    },
    {
     "data": {
      "application/vnd.jupyter.widget-view+json": {
       "model_id": "e26c344c01ea41f68a826ca1080271f9",
       "version_major": 2,
       "version_minor": 0
      },
      "text/plain": [
       "  0%|          | 0/4 [00:00<?, ?it/s]"
      ]
     },
     "metadata": {},
     "output_type": "display_data"
    },
    {
     "data": {
      "application/vnd.jupyter.widget-view+json": {
       "model_id": "fcbf3907990e42ae9e325b4b02d84d7e",
       "version_major": 2,
       "version_minor": 0
      },
      "text/plain": [
       "  0%|          | 0/4 [00:00<?, ?it/s]"
      ]
     },
     "metadata": {},
     "output_type": "display_data"
    }
   ],
   "source": [
    "salvar_ds_blocado(a,b,gold,\n",
    "                    zatts_list,zatts_names,\n",
    "                    out_dir,out_filename+'_blk',\n",
    "                    blk_keys,blk_key1=1,bigrams=2)"
   ]
  },
  {
   "cell_type": "markdown",
   "metadata": {},
   "source": [
    "## NC Voters"
   ]
  },
  {
   "cell_type": "code",
   "execution_count": 9,
   "metadata": {},
   "outputs": [],
   "source": [
    "ds_dir = \"ncvr\" + os.sep\n",
    "out_dir = dataset_out_put_dir + ds_dir\n",
    "os.makedirs(out_dir,exist_ok=True)\n",
    "bf_len = 200\n",
    "\n",
    "blk_keys = [ 2, 3 ]\n",
    "\n",
    "out_filename = 'comparison_' \n",
    "\n",
    "zatts_list  = [ [2,3,4] , [2,3,4,5] , [2,3,4,5,8] , [2,3,4,5,8,7] ]\n",
    "zatts_names = [ '1' , '2' , '3' , '4' ]\n",
    "\n",
    "files = [f for f in os.listdir(datasets_dir+ds_dir) if '.zip' in f]"
   ]
  },
  {
   "cell_type": "code",
   "execution_count": 10,
   "metadata": {},
   "outputs": [],
   "source": [
    "# def get_chave(df,blk_key1=1,blk_key2=None,n_char=2):\n",
    "#     if blk_key2 != None:\n",
    "#         return a.iloc[:,blk_key1].astype(str).str[0:n_char] + a.iloc[:,blk_key2].astype(str).str[0:n_char]\n",
    "#     return a.iloc[:,blk_key1].astype(str).str[0:n_char]\n",
    "\n",
    "\n",
    "# zdf = datasets_dir + ds_dir + files[1]\n",
    "# a,b,gold = open_processed_ds(zdf)\n",
    "# get_chave(a,blk_key1=2,n_char=2)\n",
    "# get_chave(a,blk_key1=2,blk_key2=3,n_char=2)"
   ]
  },
  {
   "cell_type": "code",
   "execution_count": 11,
   "metadata": {},
   "outputs": [
    {
     "data": {
      "application/vnd.jupyter.widget-view+json": {
       "model_id": "27b4334b961a41f2a90293c1efdbc190",
       "version_major": 2,
       "version_minor": 0
      },
      "text/plain": [
       "  0%|          | 0/6 [00:00<?, ?it/s]"
      ]
     },
     "metadata": {},
     "output_type": "display_data"
    },
    {
     "data": {
      "application/vnd.jupyter.widget-view+json": {
       "model_id": "44d28ad553be43cfb2e7be09276178a1",
       "version_major": 2,
       "version_minor": 0
      },
      "text/plain": [
       "  0%|          | 0/2 [00:00<?, ?it/s]"
      ]
     },
     "metadata": {},
     "output_type": "display_data"
    }
   ],
   "source": [
    "for ds_file in tqdm(files):\n",
    "    for bk in blk_keys:\n",
    "        out_filename_ = out_filename + ds_file.split('.zip')[0]\n",
    "        zdf = datasets_dir + ds_dir + ds_file\n",
    "        a,b,gold = open_processed_ds(zdf)\n",
    "        \n",
    "        a.zip_code = a.zip_code.astype(str)\n",
    "        b.zip_code = b.zip_code.astype(str)\n",
    "        gabarito = gerar_gabarito(gold)\n",
    "        \n",
    "        # full\n",
    "        # salvar_comparacoes(bf_len,a,b,gabarito,zatts_list,zatts_names,dataset_out_put_dir,out_filename,baseado_no_gabarito=False)\n",
    "        salvar_ds_blocado(a,b,gold,\n",
    "                    zatts_list,zatts_names,\n",
    "                    out_dir,out_filename+'_blk',\n",
    "                    blk_keys,blk_key1=2,blk_key2=3,bigrams=2)\n",
    "    \n",
    "    del a, b, gold, gabarito"
   ]
  },
  {
   "cell_type": "markdown",
   "metadata": {},
   "source": [
    "## Michigan Voters"
   ]
  },
  {
   "cell_type": "code",
   "execution_count": null,
   "metadata": {},
   "outputs": [],
   "source": [
    "ds_dir = \"mvr\" + os.sep\n",
    "out_dir = dataset_out_put_dir + ds_dir\n",
    "os.makedirs(out_dir,exist_ok=True)\n",
    "bf_len = 200\n",
    "\n",
    "blk_keys = [ 2,3 ]\n",
    "\n",
    "out_filename = 'comparison_' \n",
    "\n",
    "# 1 , 2, 3, 4 (mais ou menos) 10,8,9\n",
    "# nome, (nome + sexo) , (nome + sexo + birth) , (nome + sexo + birth + endereco)\n",
    "zatts_list  = [ [1,3,2] , [1,3,2,5] , [1,3,2,5,4] , [1,3,2,5,6,8,9,10] ]\n",
    "zatts_names = [ '1' , '2' , '3' , '4' ]\n",
    "\n",
    "files = [f for f in os.listdir(datasets_dir+ds_dir) if '.zip' in f]\n"
   ]
  },
  {
   "cell_type": "code",
   "execution_count": null,
   "metadata": {},
   "outputs": [],
   "source": [
    "for ds_file in tqdm(files):\n",
    "    for bk in blk_keys:\n",
    "        out_filename_ = out_filename + ds_file.split('.zip')[0]\n",
    "        zdf = datasets_dir + ds_dir + ds_file\n",
    "        a,b,gold = open_processed_ds(zdf)\n",
    "        \n",
    "        a.birthyear = a.birthyear.astype(str)\n",
    "        b.birthyear = b.birthyear.astype(str)\n",
    "        a.zip = a.zip.astype(str)\n",
    "        b.zip = b.zip.astype(str)\n",
    "\n",
    "        gabarito = gerar_gabarito(gold)\n",
    "        \n",
    "        # full\n",
    "        # salvar_comparacoes(bf_len,a,b,gabarito,zatts_list,zatts_names,dataset_out_put_dir,out_filename,baseado_no_gabarito=False)\n",
    "        salvar_ds_blocado(a,b,gold,\n",
    "                    zatts_list,zatts_names,\n",
    "                    out_dir,out_filename+'_blk',\n",
    "                    blk_keys,blk_key1=1,blk_key2=2,bigrams=2)\n",
    "    \n",
    "    del a, b, gold, gabarito"
   ]
  },
  {
   "cell_type": "markdown",
   "metadata": {},
   "source": [
    "## TSE"
   ]
  },
  {
   "cell_type": "code",
   "execution_count": null,
   "metadata": {},
   "outputs": [],
   "source": [
    "ds_dir = \"tse\" + os.sep\n",
    "out_dir = dataset_out_put_dir + ds_dir\n",
    "os.makedirs(out_dir,exist_ok=True)\n",
    "bf_len = 400\n",
    "\n",
    "blk_keys = [ 2,3,4 ]\n",
    "\n",
    "out_filename = 'comparison_' \n",
    "\n",
    "# 1 , 2, 3, 4 (mais ou menos)\n",
    "zatts_list  = [ [1] , [1,5] , [1,5,6] , [1,5,6,3] ]\n",
    "zatts_names = [ '1' , '2' , '3' , '4' ]\n",
    "\n",
    "files = [f for f in os.listdir(datasets_dir+ds_dir) if '.zip' in f]"
   ]
  },
  {
   "cell_type": "code",
   "execution_count": null,
   "metadata": {},
   "outputs": [],
   "source": [
    "for ds_file in tqdm(files):\n",
    "    for bk in blk_keys:\n",
    "        out_filename_ = out_filename + ds_file.split('.zip')[0]\n",
    "        zdf = datasets_dir + ds_dir + ds_file\n",
    "        a,b,gold = open_processed_ds(zdf)\n",
    "        \n",
    "\n",
    "        gabarito = gerar_gabarito(gold)\n",
    "        \n",
    "        # full\n",
    "        # salvar_comparacoes(bf_len,a,b,gabarito,zatts_list,zatts_names,dataset_out_put_dir,out_filename,baseado_no_gabarito=False)\n",
    "        salvar_ds_blocado(a,b,gold,\n",
    "                    zatts_list,zatts_names,\n",
    "                    out_dir,out_filename+'_blk',\n",
    "                    blk_keys,blk_key1=1,bigrams=2)\n",
    "    \n",
    "    del a, b, gold, gabarito"
   ]
  },
  {
   "cell_type": "markdown",
   "metadata": {},
   "source": [
    "## YV-ER"
   ]
  },
  {
   "cell_type": "code",
   "execution_count": null,
   "metadata": {},
   "outputs": [],
   "source": [
    "ds_dir = \"yv-er\" + os.sep\n",
    "out_dir = dataset_out_put_dir + ds_dir\n",
    "os.makedirs(out_dir,exist_ok=True)\n",
    "bf_len = 400\n",
    "\n",
    "blk_keys = [ 2,3,4 ]\n",
    "\n",
    "out_filename = 'comparison_' \n",
    "\n",
    "zatts_list  = [ [2,3] , [2,3,4] , [2,3,4,7] , [2,3,4,7,8,10] ]\n",
    "zatts_names = [ '1' , '2' , '3' , '4' ]\n",
    "\n",
    "files = [f for f in os.listdir(datasets_dir+ds_dir) if '.zip' in f]"
   ]
  },
  {
   "cell_type": "code",
   "execution_count": null,
   "metadata": {},
   "outputs": [],
   "source": [
    "for ds_file in tqdm(files):\n",
    "    out_filename_ = out_filename + ds_file.split('.zip')[0]\n",
    "    zdf = datasets_dir + ds_dir + ds_file\n",
    "\n",
    "    a,b,gold = open_processed_ds(zdf)\n",
    "    a = a.astype(str)\n",
    "    b = b.astype(str)\n",
    "    gold.id1 =  gold.id1.astype(str)\n",
    "    gold.id2 =  gold.id2.astype(str)\n",
    "    \n",
    "    gabarito = gerar_gabarito(gold)\n",
    "    salvar_comparacoes(bf_len,a,b,gabarito,zatts_list,zatts_names,dataset_out_put_dir,out_filename,baseado_no_gabarito=False)\n",
    "\n",
    "    for bk in blk_keys:\n",
    "        \n",
    "        salvar_ds_blocado(a,b,gold,\n",
    "                    zatts_list,zatts_names,\n",
    "                    out_dir,out_filename+'_blk',\n",
    "                    blk_keys,blk_key1=1,bigrams=2)"
   ]
  },
  {
   "cell_type": "markdown",
   "metadata": {},
   "source": [
    "# Dataset extras"
   ]
  },
  {
   "cell_type": "markdown",
   "metadata": {},
   "source": [
    "nao portados"
   ]
  },
  {
   "cell_type": "markdown",
   "metadata": {},
   "source": [
    "##  Abt-buy"
   ]
  },
  {
   "cell_type": "code",
   "execution_count": null,
   "metadata": {},
   "outputs": [],
   "source": [
    "ds_dir = \"abt-buy\\\\\"\n",
    "ds_file = \"processed_abt-buy.zip\"\n",
    "\n",
    "zdf = datasets_dir + ds_dir + ds_file\n",
    "a,b,gold = open_processed_ds(zdf)"
   ]
  },
  {
   "cell_type": "code",
   "execution_count": null,
   "metadata": {},
   "outputs": [],
   "source": [
    "comp_full_file = 'comparison_abt-buy_full.zip'\n",
    "non_blk_file = datasets_dir + ds_dir + comp_full_file\n",
    "n_atts = 3\n",
    "dedup = False\n",
    "out_dir = datasets_dir + ds_dir\n",
    "\n",
    "# blocar_ds_preprocessado(a,b,4,non_blk_file,n_atts,dedup,out_dir,comp_full_file)\n",
    "blocar_ds_preprocessado(a,b,3,non_blk_file,n_atts,dedup,out_dir,comp_full_file)\n",
    "blocar_ds_preprocessado(a,b,2,non_blk_file,n_atts,dedup,out_dir,comp_full_file)\n",
    "blocar_ds_preprocessado(a,b,1,non_blk_file,n_atts,dedup,out_dir,comp_full_file)"
   ]
  },
  {
   "cell_type": "markdown",
   "metadata": {},
   "source": [
    "## DBLP-ACM"
   ]
  },
  {
   "cell_type": "code",
   "execution_count": null,
   "metadata": {
    "run_control": {
     "marked": true
    }
   },
   "outputs": [],
   "source": [
    "ds_dir = \"dblp-acm\" + os.sep\n",
    "ds_file = \"processed_DBLP-ACM.zip\"\n",
    "\n",
    "zdf = datasets_dir + ds_dir + ds_file\n",
    "a,b,gold = open_processed_ds(zdf)"
   ]
  },
  {
   "cell_type": "code",
   "execution_count": null,
   "metadata": {
    "run_control": {
     "marked": false
    }
   },
   "outputs": [],
   "source": [
    "comp_full_file = 'comparison_dblp-acm_full.zip'\n",
    "non_blk_file = datasets_dir + ds_dir + comp_full_file\n",
    "n_atts = 4\n",
    "dedup = False\n",
    "out_dir = datasets_dir + ds_dir\n",
    "\n",
    "# blocar_ds_preprocessado(a,b,4,non_blk_file,n_atts,dedup,out_dir,comp_full_file)\n",
    "blocar_ds_preprocessado(a,b,3,non_blk_file,n_atts,dedup,out_dir,comp_full_file)\n",
    "blocar_ds_preprocessado(a,b,2,non_blk_file,n_atts,dedup,out_dir,comp_full_file)\n",
    "blocar_ds_preprocessado(a,b,1,non_blk_file,n_atts,dedup,out_dir,comp_full_file)"
   ]
  },
  {
   "cell_type": "markdown",
   "metadata": {},
   "source": [
    "# Books"
   ]
  },
  {
   "cell_type": "code",
   "execution_count": null,
   "metadata": {},
   "outputs": [],
   "source": [
    "context = \"/books\"\n",
    "ds_dir = context+ os.sep"
   ]
  },
  {
   "cell_type": "markdown",
   "metadata": {},
   "source": [
    "## amazon-barnesnobel"
   ]
  },
  {
   "cell_type": "code",
   "execution_count": null,
   "metadata": {},
   "outputs": [],
   "source": [
    "ds_file = \"processed_amazon-barnesnobel.zip\"\n",
    "\n",
    "zdf = datasets_dir + ds_dir + ds_file\n",
    "a,b,gold = open_processed_ds(zdf)"
   ]
  },
  {
   "cell_type": "code",
   "execution_count": null,
   "metadata": {},
   "outputs": [],
   "source": [
    "comp_full_file = 'comparison_books_amazon-barnesnobel.zip'\n",
    "non_blk_file = datasets_dir + ds_dir + comp_full_file\n",
    "n_atts = 3\n",
    "dedup = False\n",
    "out_dir = datasets_dir + ds_dir\n",
    "\n",
    "# blocar_ds_preprocessado(a,b,4,non_blk_file,n_atts,dedup,out_dir,comp_full_file)\n",
    "blocar_ds_preprocessado(a,b,3,non_blk_file,n_atts,dedup,out_dir,comp_full_file)\n",
    "blocar_ds_preprocessado(a,b,2,non_blk_file,n_atts,dedup,out_dir,comp_full_file)\n",
    "blocar_ds_preprocessado(a,b,1,non_blk_file,n_atts,dedup,out_dir,comp_full_file)"
   ]
  },
  {
   "cell_type": "markdown",
   "metadata": {},
   "source": [
    "## amazon-barnesnobel-small"
   ]
  },
  {
   "cell_type": "code",
   "execution_count": null,
   "metadata": {},
   "outputs": [],
   "source": [
    "ds_file = \"processed_amazon-barnesnobel-small.zip\"\n",
    "\n",
    "zdf = datasets_dir + ds_dir + ds_file\n",
    "a,b,gold = open_processed_ds(zdf)"
   ]
  },
  {
   "cell_type": "code",
   "execution_count": null,
   "metadata": {},
   "outputs": [],
   "source": [
    "comp_full_file = 'comparison_books_amazon-barnesnobel-small.zip'\n",
    "non_blk_file = datasets_dir + ds_dir + comp_full_file\n",
    "n_atts = 3\n",
    "dedup = False\n",
    "out_dir = datasets_dir + ds_dir\n",
    "\n",
    "# blocar_ds_preprocessado(a,b,4,non_blk_file,n_atts,dedup,out_dir,comp_full_file)\n",
    "blocar_ds_preprocessado(a,b,3,non_blk_file,n_atts,dedup,out_dir,comp_full_file)\n",
    "blocar_ds_preprocessado(a,b,2,non_blk_file,n_atts,dedup,out_dir,comp_full_file)\n",
    "blocar_ds_preprocessado(a,b,1,non_blk_file,n_atts,dedup,out_dir,comp_full_file)"
   ]
  },
  {
   "cell_type": "markdown",
   "metadata": {},
   "source": [
    "## goodreads-barnesnobel"
   ]
  },
  {
   "cell_type": "code",
   "execution_count": null,
   "metadata": {},
   "outputs": [],
   "source": [
    "ds_file = \"processed_goodreads-barnesnobel.zip\"\n",
    "\n",
    "zdf = datasets_dir + ds_dir + ds_file\n",
    "a,b,gold = open_processed_ds(zdf)"
   ]
  },
  {
   "cell_type": "code",
   "execution_count": null,
   "metadata": {},
   "outputs": [],
   "source": [
    "comp_full_file = 'comparison_books_goodreads-barnesnobel.zip'\n",
    "\n",
    "non_blk_file = datasets_dir + ds_dir + comp_full_file\n",
    "n_atts = 4\n",
    "dedup = False\n",
    "out_dir = datasets_dir + ds_dir\n",
    "\n",
    "# blocar_ds_preprocessado(a,b,4,non_blk_file,n_atts,dedup,out_dir,comp_full_file)\n",
    "blocar_ds_preprocessado(a,b,3,non_blk_file,n_atts,dedup,out_dir,comp_full_file)\n",
    "blocar_ds_preprocessado(a,b,2,non_blk_file,n_atts,dedup,out_dir,comp_full_file)\n",
    "blocar_ds_preprocessado(a,b,1,non_blk_file,n_atts,dedup,out_dir,comp_full_file)"
   ]
  },
  {
   "cell_type": "markdown",
   "metadata": {},
   "source": [
    "# Movies"
   ]
  },
  {
   "cell_type": "code",
   "execution_count": null,
   "metadata": {},
   "outputs": [],
   "source": [
    "context = \"/movies\"\n",
    "ds_dir = context+ os.sep"
   ]
  },
  {
   "cell_type": "markdown",
   "metadata": {},
   "source": [
    "## imdb-rottentomatos"
   ]
  },
  {
   "cell_type": "code",
   "execution_count": null,
   "metadata": {},
   "outputs": [],
   "source": [
    "ds_file = \"processed_imdb-rottentomatos.zip\"\n",
    "\n",
    "zdf = datasets_dir + ds_dir + ds_file\n",
    "a,b,gold = open_processed_ds(zdf)"
   ]
  },
  {
   "cell_type": "code",
   "execution_count": null,
   "metadata": {},
   "outputs": [],
   "source": [
    "comp_full_file = 'comparison_movies_imdb-rottentomatos.zip'\n",
    "non_blk_file = datasets_dir + ds_dir + comp_full_file\n",
    "n_atts = 3\n",
    "dedup = False\n",
    "out_dir = datasets_dir + ds_dir\n",
    "\n",
    "# blocar_ds_preprocessado(a,b,4,non_blk_file,n_atts,dedup,out_dir,comp_full_file)\n",
    "blocar_ds_preprocessado(a,b,3,non_blk_file,n_atts,dedup,out_dir,comp_full_file)\n",
    "blocar_ds_preprocessado(a,b,2,non_blk_file,n_atts,dedup,out_dir,comp_full_file)\n",
    "blocar_ds_preprocessado(a,b,1,non_blk_file,n_atts,dedup,out_dir,comp_full_file)"
   ]
  },
  {
   "cell_type": "markdown",
   "metadata": {},
   "source": [
    "## imdb-tmd"
   ]
  },
  {
   "cell_type": "code",
   "execution_count": null,
   "metadata": {},
   "outputs": [],
   "source": [
    "ds_file = \"processed_imdb-tmd.zip\"\n",
    "\n",
    "zdf = datasets_dir + ds_dir + ds_file\n",
    "a,b,gold = open_processed_ds(zdf)"
   ]
  },
  {
   "cell_type": "code",
   "execution_count": null,
   "metadata": {},
   "outputs": [],
   "source": [
    "comp_full_file = 'comparison_movies_imdb-tmd.zip'\n",
    "non_blk_file = datasets_dir + ds_dir + comp_full_file\n",
    "n_atts = 2\n",
    "dedup = False\n",
    "out_dir = datasets_dir + ds_dir\n",
    "\n",
    "# blocar_ds_preprocessado(a,b,4,non_blk_file,n_atts,dedup,out_dir,comp_full_file)\n",
    "blocar_ds_preprocessado(a,b,3,non_blk_file,n_atts,dedup,out_dir,comp_full_file)\n",
    "blocar_ds_preprocessado(a,b,2,non_blk_file,n_atts,dedup,out_dir,comp_full_file)\n",
    "blocar_ds_preprocessado(a,b,1,non_blk_file,n_atts,dedup,out_dir,comp_full_file)"
   ]
  },
  {
   "cell_type": "markdown",
   "metadata": {},
   "source": [
    "# Restaurants"
   ]
  },
  {
   "cell_type": "code",
   "execution_count": null,
   "metadata": {},
   "outputs": [],
   "source": [
    "context = \"/restaurants\" \n",
    "ds_dir = context+ os.sep"
   ]
  },
  {
   "cell_type": "markdown",
   "metadata": {},
   "source": [
    "## fodors-zagats"
   ]
  },
  {
   "cell_type": "code",
   "execution_count": null,
   "metadata": {},
   "outputs": [],
   "source": [
    "ds_file = \"processed_fodors-zagats.zip\"\n",
    "\n",
    "zdf = datasets_dir + ds_dir + ds_file\n",
    "a,b,gold = open_processed_ds(zdf)"
   ]
  },
  {
   "cell_type": "code",
   "execution_count": null,
   "metadata": {},
   "outputs": [],
   "source": [
    "comp_full_file = 'comparison_restaurants_fodors-zagats.zip'\n",
    "non_blk_file = datasets_dir + ds_dir + comp_full_file\n",
    "n_atts = 4\n",
    "dedup = False\n",
    "out_dir = datasets_dir + ds_dir\n",
    "\n",
    "# blocar_ds_preprocessado(a,b,4,non_blk_file,n_atts,dedup,out_dir,comp_full_file)\n",
    "blocar_ds_preprocessado(a,b,3,non_blk_file,n_atts,dedup,out_dir,comp_full_file)\n",
    "blocar_ds_preprocessado(a,b,2,non_blk_file,n_atts,dedup,out_dir,comp_full_file)\n",
    "blocar_ds_preprocessado(a,b,1,non_blk_file,n_atts,dedup,out_dir,comp_full_file)"
   ]
  },
  {
   "cell_type": "markdown",
   "metadata": {},
   "source": [
    "## yelp-yellowpages"
   ]
  },
  {
   "cell_type": "code",
   "execution_count": null,
   "metadata": {},
   "outputs": [],
   "source": [
    "ds_file = \"processed_yelp-yellowpages.zip\""
   ]
  },
  {
   "cell_type": "code",
   "execution_count": null,
   "metadata": {},
   "outputs": [],
   "source": [
    "comp_full_file = 'comparison_restaurants_yelp-yellowpages.zip'\n",
    "non_blk_file = datasets_dir + ds_dir + comp_full_file\n",
    "n_atts = 5\n",
    "dedup = False\n",
    "out_dir = datasets_dir + ds_dir\n",
    "\n",
    "# blocar_ds_preprocessado(a,b,4,non_blk_file,n_atts,dedup,out_dir,comp_full_file)\n",
    "blocar_ds_preprocessado(a,b,3,non_blk_file,n_atts,dedup,out_dir,comp_full_file)\n",
    "blocar_ds_preprocessado(a,b,2,non_blk_file,n_atts,dedup,out_dir,comp_full_file)\n",
    "blocar_ds_preprocessado(a,b,1,non_blk_file,n_atts,dedup,out_dir,comp_full_file)"
   ]
  },
  {
   "cell_type": "markdown",
   "metadata": {},
   "source": [
    "## yelp-zomato"
   ]
  },
  {
   "cell_type": "code",
   "execution_count": null,
   "metadata": {},
   "outputs": [],
   "source": [
    "ds_file = \"processed_yelp-zomato.zip\""
   ]
  },
  {
   "cell_type": "code",
   "execution_count": null,
   "metadata": {},
   "outputs": [],
   "source": [
    "comp_full_file = 'comparison_restaurants_yelp-zomato.zip'\n",
    "non_blk_file = datasets_dir + ds_dir + comp_full_file\n",
    "n_atts = 3\n",
    "dedup = False\n",
    "out_dir = datasets_dir + ds_dir\n",
    "\n",
    "# blocar_ds_preprocessado(a,b,4,non_blk_file,n_atts,dedup,out_dir,comp_full_file)\n",
    "blocar_ds_preprocessado(a,b,3,non_blk_file,n_atts,dedup,out_dir,comp_full_file)\n",
    "blocar_ds_preprocessado(a,b,2,non_blk_file,n_atts,dedup,out_dir,comp_full_file)\n",
    "blocar_ds_preprocessado(a,b,1,non_blk_file,n_atts,dedup,out_dir,comp_full_file)"
   ]
  },
  {
   "cell_type": "code",
   "execution_count": null,
   "metadata": {},
   "outputs": [],
   "source": []
  }
 ],
 "metadata": {
  "kernelspec": {
   "display_name": "Python 3",
   "language": "python",
   "name": "python3"
  },
  "language_info": {
   "codemirror_mode": {
    "name": "ipython",
    "version": 3
   },
   "file_extension": ".py",
   "mimetype": "text/x-python",
   "name": "python",
   "nbconvert_exporter": "python",
   "pygments_lexer": "ipython3",
   "version": "3.8.5"
  },
  "latex_envs": {
   "LaTeX_envs_menu_present": true,
   "autoclose": false,
   "autocomplete": true,
   "bibliofile": "biblio.bib",
   "cite_by": "apalike",
   "current_citInitial": 1,
   "eqLabelWithNumbers": true,
   "eqNumInitial": 1,
   "hotkeys": {
    "equation": "Ctrl-E",
    "itemize": "Ctrl-I"
   },
   "labels_anchors": false,
   "latex_user_defs": false,
   "report_style_numbering": false,
   "user_envs_cfg": false
  },
  "toc": {
   "base_numbering": 1,
   "nav_menu": {},
   "number_sections": true,
   "sideBar": true,
   "skip_h1_title": false,
   "title_cell": "Table of Contents",
   "title_sidebar": "Contents",
   "toc_cell": false,
   "toc_position": {
    "height": "calc(100% - 180px)",
    "left": "10px",
    "top": "150px",
    "width": "236px"
   },
   "toc_section_display": true,
   "toc_window_display": true
  }
 },
 "nbformat": 4,
 "nbformat_minor": 1
}
