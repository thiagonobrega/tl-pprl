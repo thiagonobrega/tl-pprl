{
 "cells": [
  {
   "cell_type": "code",
   "execution_count": null,
   "metadata": {},
   "outputs": [],
   "source": [
    "import sys\n",
    "import zipfile\n",
    "import os\n",
    "from random import sample \n",
    "\n",
    "import numpy as np\n",
    "import pandas as pd\n",
    "from IPython.display import display, HTML\n",
    "\n",
    "sys.path.append(\".\")\n",
    "\n",
    "from datasetutil import gerar_estatiscas_df, substituir_valores_nulos , verify_gg4cc , save_zip2"
   ]
  },
  {
   "cell_type": "markdown",
   "metadata": {},
   "source": [
    "## Metodos"
   ]
  },
  {
   "cell_type": "code",
   "execution_count": null,
   "metadata": {},
   "outputs": [],
   "source": [
    "def gerar_ds(set_a,set_b,n=5000,m=.5):\n",
    "    '''\n",
    "    Recupera um conjunto com os ids das entidades que serão utilizadas no \n",
    "    conjunto a, conjunto b e gabarito\n",
    "    \n",
    "    '''\n",
    "    \n",
    "    um = 1 - m\n",
    "    \n",
    "    total_m = int(n * m)\n",
    "    total_um = int(n * um)\n",
    "    \n",
    "    inter_ab = list(set_a & set_b)\n",
    "    \n",
    "    nb = set_a.difference(inter_ab)\n",
    "    na = set_b.difference(inter_ab)\n",
    "    \n",
    "    matches = sample(inter_ab, total_m)\n",
    "    unmatch_a = sample(nb, total_um)\n",
    "    unmatch_b = sample(na, total_um)\n",
    "    \n",
    "    return matches + unmatch_a, matches + unmatch_b , matches"
   ]
  },
  {
   "cell_type": "code",
   "execution_count": null,
   "metadata": {},
   "outputs": [],
   "source": [
    "def popular_ds(dsa,dsb,list_a,list_b,gab):\n",
    "    '''\n",
    "        Monta o dataset com base nas listas\n",
    "        \n",
    "        @return dataset a\n",
    "        @return dataset b\n",
    "        @return goldstanrd\n",
    "    '''\n",
    "    za = dsa[dsa.voter_id.isin(list_a)]\n",
    "    zb = dsb[dsb.voter_id.isin(list_b)]\n",
    "\n",
    "    gs = pd.DataFrame(list(zip(gab)),columns=['id1'])\n",
    "    gs['id2'] = gs.id1\n",
    "    return za, zb , gs\n",
    "\n",
    "def save_all(dsa,dsb,gs,outfile):\n",
    "    '''\n",
    "    Salva tudo em um zip\n",
    "    '''\n",
    "    \n",
    "    n_a = dsa.isnull().sum()\n",
    "    s_a = dsa.describe(include='object')\n",
    "    n_b = dsb.isnull().sum()\n",
    "    s_b = dsb.describe(include='object')\n",
    "    \n",
    "    sa = gerar_estatiscas_df(n_a,s_a)\n",
    "    sb = gerar_estatiscas_df(n_b,s_b)\n",
    "    \n",
    "    dfa = substituir_valores_nulos(dsa)\n",
    "    dfb = substituir_valores_nulos(dsb)\n",
    "    \n",
    "    save_zip2(dfa,dfb,gs,sa,sb,outfile)"
   ]
  },
  {
   "cell_type": "code",
   "execution_count": null,
   "metadata": {
    "pycharm": {
     "name": "#%%\n"
    }
   },
   "outputs": [],
   "source": [
    "def read(zinput):\n",
    "    '''\n",
    "        Ler zip com os datasets - para o ano de 2014 e 2017\n",
    "    '''\n",
    "    zf = zipfile.ZipFile(zinput) \n",
    "    fwidths = [35,20,20,3,\n",
    "               4,1,8,1+7+4+2, #mambojambo_1 (itens 8 ao 11)\n",
    "               30,6+2,13,35, #mambojambo_2 (itens 13 ao 14)\n",
    "               2,5,50+50+50+50+50 , #mambojambo_2 (itens 19 ao 23)\n",
    "               13\n",
    "              ]\n",
    "    colunas = ['lastname','firstname','middlename','namesufix',\n",
    "               'birthyear','gender','date_registration','mambojambo_1',\n",
    "               'street_name','mambojambo_2','extension','city',\n",
    "               'state','zip','mambojambo_3',\n",
    "               'voter_id'\n",
    "              ]\n",
    "\n",
    "\n",
    "    saida = []\n",
    "    for arquivo in zipfile.ZipFile.namelist(zf):\n",
    "        \n",
    "        df = pd.read_fwf(zf.open(arquivo),\n",
    "                         header=0,encoding=\"iso-8859-1\",\n",
    "#                          nrows=15,\n",
    "                         widths = fwidths,\n",
    "                         names = colunas)\n",
    "        \n",
    "        del df['mambojambo_1']\n",
    "        del df['mambojambo_2']\n",
    "        del df['mambojambo_3']\n",
    "        \n",
    "        if len(saida) == 0:\n",
    "            saida = df\n",
    "        else:\n",
    "            saida = pd.concat([saida,df])\n",
    "            \n",
    "        \n",
    "    return saida"
   ]
  },
  {
   "cell_type": "code",
   "execution_count": null,
   "metadata": {},
   "outputs": [],
   "source": [
    "def alterar_colunas(df):\n",
    "    cols = df.columns.tolist()\n",
    "    cols = cols[-1:] + cols[:-1]\n",
    "    df = df[cols]\n",
    "    cols[0] = 'id'\n",
    "    df.columns = cols\n",
    "    return df"
   ]
  },
  {
   "cell_type": "markdown",
   "metadata": {
    "pycharm": {
     "name": "#%% md\n"
    }
   },
   "source": [
    "## Leitura dos dados"
   ]
  },
  {
   "cell_type": "code",
   "execution_count": null,
   "metadata": {},
   "outputs": [],
   "source": [
    "base_dir = 'D:'+os.sep+'Dados'+os.sep+'OneDrive'+os.sep+'Doutorado'+os.sep+'Datasets'+os.sep\n",
    "ds_files = base_dir + 'MVR'+os.sep+'michiganvoters.info'+os.sep+'download'+os.sep\n",
    "fa = '20140901'+os.sep+'foia_voters.zip'\n",
    "fb = '20171031'+os.sep+'foia_voters.zip'\n",
    "# fb = '20200302'+os.sep+'EntireStateVoter.zip'\n"
   ]
  },
  {
   "cell_type": "code",
   "execution_count": null,
   "metadata": {},
   "outputs": [],
   "source": [
    "a = read(ds_files + fa)\n",
    "b = read(ds_files + fb)"
   ]
  },
  {
   "cell_type": "code",
   "execution_count": null,
   "metadata": {},
   "outputs": [],
   "source": [
    "sa = set(a.voter_id.unique())\n",
    "sb = set(b.voter_id.unique())\n",
    "len(a),len(sa)"
   ]
  },
  {
   "cell_type": "code",
   "execution_count": null,
   "metadata": {
    "pycharm": {
     "name": "#%%\n"
    }
   },
   "outputs": [],
   "source": [
    "n = 1500\n",
    "    \n",
    "out_files = 'D:'+os.sep+'Dados'+os.sep+'OneDrive'+os.sep+'Doutorado'+os.sep+'workspace'+os.sep+'tl@pprl'+os.sep+'datasets'+os.sep\n",
    "out_files += 'mvr' + os.sep\n",
    "\n",
    "prefix = 'michiganvoters_'\n",
    "sufix = '.zip'\n",
    "\n",
    "for n in [2000,10000,100000,500000]:\n",
    "    for i in [.1]:\n",
    "        la,lb , gab = gerar_ds(sa,sb,m=i,n=n)\n",
    "        dsa , dsb , gs = popular_ds(a,b,la,lb,gab)\n",
    "        dsa = alterar_colunas(dsa)\n",
    "        dsb = alterar_colunas(dsb)\n",
    "        of = out_files + prefix + str(n) +\"_\"+ str(i)+sufix\n",
    "        save_all(dsa,dsb,gs,of)\n",
    "        print(of)\n",
    "    "
   ]
  },
  {
   "cell_type": "markdown",
   "metadata": {
    "pycharm": {
     "name": "#%% md\n"
    }
   },
   "source": [
    "## Scratch"
   ]
  },
  {
   "cell_type": "code",
   "execution_count": null,
   "metadata": {},
   "outputs": [],
   "source": [
    "dsb"
   ]
  },
  {
   "cell_type": "code",
   "execution_count": null,
   "metadata": {},
   "outputs": [],
   "source": [
    "dsb[dsb.voter_id == 108341437]"
   ]
  },
  {
   "cell_type": "code",
   "execution_count": null,
   "metadata": {
    "collapsed": false,
    "pycharm": {
     "name": "#%%\n"
    }
   },
   "outputs": [],
   "source": []
  },
  {
   "cell_type": "code",
   "execution_count": null,
   "metadata": {
    "collapsed": false,
    "pycharm": {
     "name": "#%%\n"
    }
   },
   "outputs": [],
   "source": []
  },
  {
   "cell_type": "code",
   "execution_count": null,
   "metadata": {
    "collapsed": false,
    "pycharm": {
     "name": "#%%\n"
    }
   },
   "outputs": [],
   "source": []
  },
  {
   "cell_type": "code",
   "execution_count": null,
   "metadata": {
    "collapsed": false,
    "pycharm": {
     "name": "#%%\n"
    }
   },
   "outputs": [],
   "source": [
    "dsa"
   ]
  },
  {
   "cell_type": "code",
   "execution_count": null,
   "metadata": {},
   "outputs": [],
   "source": []
  },
  {
   "cell_type": "code",
   "execution_count": null,
   "metadata": {},
   "outputs": [],
   "source": []
  },
  {
   "cell_type": "code",
   "execution_count": null,
   "metadata": {},
   "outputs": [],
   "source": []
  },
  {
   "cell_type": "code",
   "execution_count": null,
   "metadata": {},
   "outputs": [],
   "source": [
    "dsa"
   ]
  },
  {
   "cell_type": "code",
   "execution_count": null,
   "metadata": {},
   "outputs": [],
   "source": []
  }
 ],
 "metadata": {
  "kernelspec": {
   "display_name": "Python 3",
   "language": "python",
   "name": "python3"
  },
  "language_info": {
   "codemirror_mode": {
    "name": "ipython",
    "version": 3
   },
   "file_extension": ".py",
   "mimetype": "text/x-python",
   "name": "python",
   "nbconvert_exporter": "python",
   "pygments_lexer": "ipython3",
   "version": "3.8.5"
  },
  "latex_envs": {
   "LaTeX_envs_menu_present": true,
   "autoclose": false,
   "autocomplete": true,
   "bibliofile": "biblio.bib",
   "cite_by": "apalike",
   "current_citInitial": 1,
   "eqLabelWithNumbers": true,
   "eqNumInitial": 1,
   "hotkeys": {
    "equation": "Ctrl-E",
    "itemize": "Ctrl-I"
   },
   "labels_anchors": false,
   "latex_user_defs": false,
   "report_style_numbering": false,
   "user_envs_cfg": false
  },
  "toc": {
   "base_numbering": 1,
   "nav_menu": {},
   "number_sections": true,
   "sideBar": true,
   "skip_h1_title": false,
   "title_cell": "Table of Contents",
   "title_sidebar": "Contents",
   "toc_cell": false,
   "toc_position": {
    "height": "calc(100% - 180px)",
    "left": "10px",
    "top": "150px",
    "width": "384px"
   },
   "toc_section_display": true,
   "toc_window_display": true
  }
 },
 "nbformat": 4,
 "nbformat_minor": 1
}
