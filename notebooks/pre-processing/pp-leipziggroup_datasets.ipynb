{
 "cells": [
  {
   "cell_type": "code",
   "execution_count": null,
   "metadata": {
    "slideshow": {
     "slide_type": "skip"
    }
   },
   "outputs": [],
   "source": [
    "import sys\n",
    "import zipfile\n",
    "import os\n",
    "\n",
    "import numpy as np\n",
    "import pandas as pd\n",
    "from IPython.display import display, HTML\n",
    "\n",
    "sys.path.append(\".\")\n",
    "\n",
    "from datasetutil import gerar_estatiscas_df, substituir_valores_nulos , verify_gg4cc , save_zip"
   ]
  },
  {
   "cell_type": "code",
   "execution_count": null,
   "metadata": {
    "slideshow": {
     "slide_type": "skip"
    }
   },
   "outputs": [],
   "source": [
    "\n",
    "CSS = \"\"\"\n",
    ".output {\n",
    "    flex-direction: row;\n",
    "}\n",
    "\"\"\"\n",
    "\n",
    "HTML('<style>{}</style>'.format(CSS))"
   ]
  },
  {
   "cell_type": "markdown",
   "metadata": {},
   "source": [
    "# Metodos"
   ]
  },
  {
   "cell_type": "code",
   "execution_count": null,
   "metadata": {},
   "outputs": [],
   "source": [
    "def read(zinput,nome_arquivo,\n",
    "         file_format=\".csv\",\n",
    "         separador=',',codificacao=\"iso-8859-1\"):\n",
    "    '''\n",
    "        Ler zip com os datasets\n",
    "    '''\n",
    "    zf = zipfile.ZipFile(zinput) \n",
    "\n",
    "    for file in zipfile.ZipFile.namelist(zf):\n",
    "        if file == nome_arquivo+file_format:\n",
    "            df = pd.read_csv(zf.open(file), header=0, encoding=codificacao,\n",
    "                             sep=separador,error_bad_lines=False)#,\n",
    "#             chunksize=640000000,\n",
    "#             nrows=15)\n",
    "            return df\n",
    "# df.iloc[:, [68,2,10,11,9,28,29,13,14,15,1,16]]"
   ]
  },
  {
   "cell_type": "markdown",
   "metadata": {},
   "source": [
    "# Produtos"
   ]
  },
  {
   "cell_type": "markdown",
   "metadata": {
    "slideshow": {
     "slide_type": "slide"
    }
   },
   "source": [
    "## Abt-buy\n",
    "\n",
    "Leipzig group"
   ]
  },
  {
   "cell_type": "code",
   "execution_count": null,
   "metadata": {
    "slideshow": {
     "slide_type": "skip"
    }
   },
   "outputs": [],
   "source": [
    "base_dir = 'D:'+os.sep+'Dados'+os.sep+'OneDrive'+os.sep+'Doutorado'+os.sep\n",
    "ds_files = 'D:\\Dados\\OneDrive\\Doutorado\\Datasets\\Leipzig\\\\'\n",
    "out_file = base_dir + 'workspace'+os.sep+'tl_pprl2'+os.sep+'datasets'+os.sep+'abt-buy'+os.sep\n",
    "\n",
    "inputZip = 'Abt-Buy.zip'\n",
    "ds1_name = 'Abt'\n",
    "ds2_name = 'Buy'\n",
    "gs_name ='abt_buy_perfectMapping'\n",
    "\n",
    "\n",
    "zip_file = 'processed_abt-buy.zip'\n",
    "\n",
    "ds1 = read(ds_files+inputZip,ds1_name)\n",
    "ds2 = read(ds_files+inputZip,ds2_name)\n",
    "gs = read(ds_files+inputZip,gs_name)"
   ]
  },
  {
   "cell_type": "markdown",
   "metadata": {
    "heading_collapsed": true,
    "slideshow": {
     "slide_type": "slide"
    }
   },
   "source": [
    "### Estatisticas"
   ]
  },
  {
   "cell_type": "code",
   "execution_count": null,
   "metadata": {
    "hidden": true
   },
   "outputs": [],
   "source": [
    "# ds1.pop('description')\n",
    "# ds1.pop('price')\n",
    "# ds2.pop('description')\n",
    "# z = ds2.pop('price')\n",
    "# del z"
   ]
  },
  {
   "cell_type": "code",
   "execution_count": null,
   "metadata": {
    "hidden": true,
    "slideshow": {
     "slide_type": "skip"
    }
   },
   "outputs": [],
   "source": [
    "nan_list1 = ds1.isnull().sum()\n",
    "nan_list2 = ds2.isnull().sum()\n",
    "\n",
    "estatiscas1 = ds1.describe(include='object')\n",
    "estatiscas2 = ds2.describe(include='object')\n",
    "\n",
    "sdf1 = gerar_estatiscas_df(nan_list1,estatiscas1)\n",
    "sdf1['ds'] = ds1_name\n",
    "\n",
    "sdf2 = gerar_estatiscas_df(nan_list2,estatiscas2)\n",
    "sdf2['ds'] = ds2_name\n",
    "\n",
    "estatiscas = pd.concat([sdf1,sdf2]).to_csv(ds_files+'stats_abt-buy.csv',sep=';')"
   ]
  },
  {
   "cell_type": "markdown",
   "metadata": {
    "hidden": true,
    "slideshow": {
     "slide_type": "subslide"
    }
   },
   "source": [
    "Dataset para deduplicação com:"
   ]
  },
  {
   "cell_type": "code",
   "execution_count": null,
   "metadata": {
    "hidden": true
   },
   "outputs": [],
   "source": [
    "display(sdf1)\n",
    "display(sdf2)"
   ]
  },
  {
   "cell_type": "markdown",
   "metadata": {
    "heading_collapsed": true,
    "slideshow": {
     "slide_type": "slide"
    }
   },
   "source": [
    "### Problemas nos dados\n"
   ]
  },
  {
   "cell_type": "markdown",
   "metadata": {
    "hidden": true
   },
   "source": [
    "sem valores nulos"
   ]
  },
  {
   "cell_type": "code",
   "execution_count": null,
   "metadata": {
    "hidden": true,
    "slideshow": {
     "slide_type": "skip"
    }
   },
   "outputs": [],
   "source": [
    "#df = substituir_valores_nulos(df)"
   ]
  },
  {
   "cell_type": "code",
   "execution_count": null,
   "metadata": {
    "hidden": true,
    "slideshow": {
     "slide_type": "skip"
    }
   },
   "outputs": [],
   "source": [
    "gs.columns = ['id1','id2']\n",
    "da, db = verify_gg4cc(gs)"
   ]
  },
  {
   "cell_type": "markdown",
   "metadata": {
    "hidden": true,
    "slideshow": {
     "slide_type": "subslide"
    }
   },
   "source": [
    "O gabarito não é de um dataset clean-clean"
   ]
  },
  {
   "cell_type": "code",
   "execution_count": null,
   "metadata": {
    "hidden": true,
    "slideshow": {
     "slide_type": "fragment"
    }
   },
   "outputs": [],
   "source": [
    "display(da.head(5))\n",
    "display(db.head(5))"
   ]
  },
  {
   "cell_type": "markdown",
   "metadata": {
    "slideshow": {
     "slide_type": "slide"
    }
   },
   "source": [
    "### Solução do problema"
   ]
  },
  {
   "cell_type": "code",
   "execution_count": null,
   "metadata": {},
   "outputs": [],
   "source": [
    "remover_da_lista2 = []\n",
    "remover_da_lista1 = []\n",
    "\n",
    "for i in da.id1.unique():\n",
    "    remover_da_lista2.append(da[da.id1 == i].id2.values[-1])\n",
    "\n",
    "for i in db.id2.unique():\n",
    "    remover_da_lista1.append(db[db.id2 == i].id1.values[-1])"
   ]
  },
  {
   "cell_type": "markdown",
   "metadata": {},
   "source": [
    "Removendo as entidades do DS"
   ]
  },
  {
   "cell_type": "code",
   "execution_count": null,
   "metadata": {},
   "outputs": [],
   "source": [
    "cds1 = ds1[~ds1.id.isin(remover_da_lista1)]\n",
    "cds2 = ds2[~ds2.id.isin(remover_da_lista2)]"
   ]
  },
  {
   "cell_type": "markdown",
   "metadata": {},
   "source": [
    "Limpando o gabarito"
   ]
  },
  {
   "cell_type": "code",
   "execution_count": null,
   "metadata": {
    "slideshow": {
     "slide_type": "subslide"
    }
   },
   "outputs": [],
   "source": [
    "gs = gs[~gs.id1.isin(remover_da_lista1)]\n",
    "gs = gs[~gs.id2.isin(remover_da_lista2)]"
   ]
  },
  {
   "cell_type": "code",
   "execution_count": null,
   "metadata": {},
   "outputs": [],
   "source": [
    "da, db = verify_gg4cc(gs)\n",
    "display(da.head(5))\n",
    "display(db.head(5))"
   ]
  },
  {
   "cell_type": "markdown",
   "metadata": {},
   "source": [
    "Dados limpos, agora salvando"
   ]
  },
  {
   "cell_type": "code",
   "execution_count": null,
   "metadata": {
    "slideshow": {
     "slide_type": "skip"
    }
   },
   "outputs": [],
   "source": [
    "save_zip(cds1,cds2,gs,estatiscas,out_file + zip_file)"
   ]
  },
  {
   "cell_type": "markdown",
   "metadata": {
    "heading_collapsed": true
   },
   "source": [
    "# Citacoes"
   ]
  },
  {
   "cell_type": "markdown",
   "metadata": {
    "heading_collapsed": true,
    "hidden": true
   },
   "source": [
    "## DBLP-ACM"
   ]
  },
  {
   "cell_type": "code",
   "execution_count": null,
   "metadata": {
    "hidden": true
   },
   "outputs": [],
   "source": [
    "base_dir = 'D:'+os.sep+'Dados'+os.sep+'OneDrive'+os.sep+'Doutorado'+os.sep\n",
    "ds_files = 'D:\\Dados\\OneDrive\\Doutorado\\Datasets\\Leipzig\\\\'\n",
    "out_file = base_dir + 'workspace'+os.sep+'tl_pprl2'+os.sep+'datasets'+os.sep+'dblp-acm'+os.sep\n",
    "\n",
    "inputZip = 'DBLP-ACM.zip'\n",
    "ds1_name = 'DBLP2'\n",
    "ds2_name = 'ACM'\n",
    "gs_name ='DBLP-ACM_perfectMapping'\n",
    "\n",
    "\n",
    "zip_file = 'processed_DBLP-ACM.zip'\n",
    "\n",
    "ds1 = read(ds_files+inputZip,ds1_name)\n",
    "ds2 = read(ds_files+inputZip,ds2_name)\n",
    "gs = read(ds_files+inputZip,gs_name)"
   ]
  },
  {
   "cell_type": "markdown",
   "metadata": {
    "hidden": true
   },
   "source": [
    "### Limpando"
   ]
  },
  {
   "cell_type": "code",
   "execution_count": null,
   "metadata": {
    "hidden": true
   },
   "outputs": [],
   "source": [
    "# ds1.pop('title')\n",
    "# z = ds2.pop('title')\n",
    "# del z\n",
    "ds1.title = ds1.title.astype(str)\n",
    "ds2.title = ds2.title.astype(str)\n",
    "ds1.year = ds1.year.astype(str)\n",
    "ds2.year = ds2.year.astype(str)\n",
    "ds1.id = ds1.id.astype(str)\n",
    "ds2.id = ds2.id.astype(str)"
   ]
  },
  {
   "cell_type": "markdown",
   "metadata": {
    "hidden": true
   },
   "source": [
    "### Estatisticas"
   ]
  },
  {
   "cell_type": "code",
   "execution_count": null,
   "metadata": {
    "hidden": true
   },
   "outputs": [],
   "source": [
    "nan_list1 = ds1.isnull().sum()\n",
    "nan_list2 = ds2.isnull().sum()\n",
    "\n",
    "estatiscas1 = ds1.describe(include='object')\n",
    "estatiscas2 = ds2.describe(include='object')\n",
    "\n",
    "sdf1 = gerar_estatiscas_df(nan_list1,estatiscas1)\n",
    "sdf1['ds'] = ds1_name\n",
    "\n",
    "sdf2 = gerar_estatiscas_df(nan_list2,estatiscas2)\n",
    "sdf2['ds'] = ds2_name\n",
    "\n",
    "estatiscas = pd.concat([sdf1,sdf2])#.to_csv(ds_files+'stats_abt-buy.csv',sep=';')\n",
    "\n",
    "display(sdf1)\n",
    "display(sdf2)"
   ]
  },
  {
   "cell_type": "markdown",
   "metadata": {
    "hidden": true
   },
   "source": [
    "### Limpando os dados\n",
    "\n",
    "Sem valores nulos"
   ]
  },
  {
   "cell_type": "code",
   "execution_count": null,
   "metadata": {
    "hidden": true
   },
   "outputs": [],
   "source": [
    "gs.columns = ['id1','id2']\n",
    "gs.id1 = gs.id1.astype(str)\n",
    "gs.id2 = gs.id2.astype(str)\n",
    "da, db = verify_gg4cc(gs)\n",
    "display(da.head(5))\n",
    "display(db.head(5))"
   ]
  },
  {
   "cell_type": "markdown",
   "metadata": {
    "hidden": true
   },
   "source": [
    "Dataset clean-clean"
   ]
  },
  {
   "cell_type": "markdown",
   "metadata": {
    "hidden": true
   },
   "source": [
    "### Salvando os dados"
   ]
  },
  {
   "cell_type": "code",
   "execution_count": null,
   "metadata": {
    "hidden": true
   },
   "outputs": [],
   "source": [
    "save_zip(ds1,ds2,gs,estatiscas,out_file + zip_file)"
   ]
  },
  {
   "cell_type": "markdown",
   "metadata": {
    "hidden": true
   },
   "source": [
    "## DBLP1-Scholar"
   ]
  },
  {
   "cell_type": "code",
   "execution_count": null,
   "metadata": {
    "hidden": true
   },
   "outputs": [],
   "source": [
    "base_dir = 'D:'+os.sep+'Dados'+os.sep+'OneDrive'+os.sep+'Doutorado'+os.sep\n",
    "ds_files = 'D:\\Dados\\OneDrive\\Doutorado\\Datasets\\Leipzig\\\\'\n",
    "out_file = base_dir + 'workspace'+os.sep+'tl_pprl2'+os.sep+'datasets'+os.sep+'dblp-acm'+os.sep\n",
    "\n",
    "inputZip = 'DBLP-Scholar.zip'\n",
    "ds1_name = 'DBLP1'\n",
    "ds2_name = 'Scholar'\n",
    "gs_name ='DBLP-Scholar_perfectMapping'\n",
    "\n",
    "\n",
    "zip_file = 'processed_DBLP-Scholar.zip'\n",
    "\n",
    "ds1 = read(ds_files+inputZip,ds1_name)\n",
    "ds2 = read(ds_files+inputZip,ds2_name)\n",
    "gs = read(ds_files+inputZip,gs_name)"
   ]
  },
  {
   "cell_type": "markdown",
   "metadata": {
    "hidden": true
   },
   "source": [
    "### Limpando"
   ]
  },
  {
   "cell_type": "code",
   "execution_count": null,
   "metadata": {
    "hidden": true
   },
   "outputs": [],
   "source": [
    "# ds1.pop('title')\n",
    "# z = ds2.pop('title')\n",
    "# del z\n",
    "ds2.columns = ['id','title','authors','venue','year']\n",
    "ds1.title = ds1.title.astype(str)\n",
    "ds2.title = ds2.title.astype(str)\n",
    "ds1.year = ds1.year.astype(str)\n",
    "\n",
    "#nan em coluna de interiro\n",
    "ds2.year = ds2.year.fillna(-1)\n",
    "ds2.year = ds2.year.astype(int)\n",
    "ds2.year = ds2.year.astype(str)\n",
    "ds2.year = ds2.year.replace('-1', np.nan)\n",
    "\n",
    "ds1.id = ds1.id.astype(str)\n",
    "ds2.id = ds2.id.astype(str)"
   ]
  },
  {
   "cell_type": "markdown",
   "metadata": {
    "hidden": true
   },
   "source": [
    "### Estatisticas"
   ]
  },
  {
   "cell_type": "code",
   "execution_count": null,
   "metadata": {
    "hidden": true
   },
   "outputs": [],
   "source": [
    "nan_list1 = ds1.isnull().sum()\n",
    "nan_list2 = ds2.isnull().sum()\n",
    "\n",
    "estatiscas1 = ds1.describe(include='object')\n",
    "estatiscas2 = ds2.describe(include='object')\n",
    "\n",
    "sdf1 = gerar_estatiscas_df(nan_list1,estatiscas1)\n",
    "sdf1['ds'] = ds1_name\n",
    "\n",
    "sdf2 = gerar_estatiscas_df(nan_list2,estatiscas2)\n",
    "sdf2['ds'] = ds2_name\n",
    "\n",
    "estatiscas = pd.concat([sdf1,sdf2])#.to_csv(ds_files+'stats_abt-buy.csv',sep=';')\n",
    "\n",
    "display(sdf1)\n",
    "display(sdf2)"
   ]
  },
  {
   "cell_type": "markdown",
   "metadata": {
    "hidden": true
   },
   "source": [
    "### Limpando os dados\n",
    "\n",
    "Sem valores nulos"
   ]
  },
  {
   "cell_type": "code",
   "execution_count": null,
   "metadata": {
    "hidden": true
   },
   "outputs": [],
   "source": [
    "gs.columns = ['id1','id2']\n",
    "gs.id1 = gs.id1.astype(str)\n",
    "gs.id2 = gs.id2.astype(str)\n",
    "da, db = verify_gg4cc(gs)\n",
    "display(da.head(5))\n",
    "display(db.head(5))"
   ]
  },
  {
   "cell_type": "markdown",
   "metadata": {
    "hidden": true,
    "slideshow": {
     "slide_type": "slide"
    }
   },
   "source": [
    "### Removendo duplicados"
   ]
  },
  {
   "cell_type": "code",
   "execution_count": null,
   "metadata": {
    "hidden": true
   },
   "outputs": [],
   "source": [
    "remover_da_lista2 = []\n",
    "remover_da_lista1 = []\n",
    "\n",
    "for i in da.id1.unique():\n",
    "    remover_da_lista2.append(da[da.id1 == i].id2.values[-1])\n",
    "\n",
    "for i in db.id2.unique():\n",
    "    remover_da_lista1.append(db[db.id2 == i].id1.values[-1])"
   ]
  },
  {
   "cell_type": "markdown",
   "metadata": {
    "hidden": true
   },
   "source": [
    "Removendo as entidades do DS"
   ]
  },
  {
   "cell_type": "code",
   "execution_count": null,
   "metadata": {
    "hidden": true
   },
   "outputs": [],
   "source": [
    "cds1 = ds1[~ds1.id.isin(remover_da_lista1)]\n",
    "cds2 = ds2[~ds2.id.isin(remover_da_lista2)]"
   ]
  },
  {
   "cell_type": "markdown",
   "metadata": {
    "hidden": true
   },
   "source": [
    "Limpando o gabarito"
   ]
  },
  {
   "cell_type": "code",
   "execution_count": null,
   "metadata": {
    "hidden": true,
    "slideshow": {
     "slide_type": "subslide"
    }
   },
   "outputs": [],
   "source": [
    "gs = gs[~gs.id1.isin(remover_da_lista1)]\n",
    "gs = gs[~gs.id2.isin(remover_da_lista2)]"
   ]
  },
  {
   "cell_type": "code",
   "execution_count": null,
   "metadata": {
    "hidden": true
   },
   "outputs": [],
   "source": [
    "da, db = verify_gg4cc(gs)\n",
    "display(da.head(150))\n",
    "display(db.head(5))"
   ]
  },
  {
   "cell_type": "markdown",
   "metadata": {
    "hidden": true
   },
   "source": [
    "nao e possivel limpar"
   ]
  },
  {
   "cell_type": "markdown",
   "metadata": {
    "hidden": true
   },
   "source": [
    "### Salvando os dados"
   ]
  },
  {
   "cell_type": "code",
   "execution_count": null,
   "metadata": {
    "hidden": true
   },
   "outputs": [],
   "source": [
    "save_zip(ds1,ds2,gs,estatiscas,out_file + zip_file)"
   ]
  }
 ],
 "metadata": {
  "kernelspec": {
   "display_name": "Python 3",
   "language": "python",
   "name": "python3"
  },
  "language_info": {
   "codemirror_mode": {
    "name": "ipython",
    "version": 3
   },
   "file_extension": ".py",
   "mimetype": "text/x-python",
   "name": "python",
   "nbconvert_exporter": "python",
   "pygments_lexer": "ipython3",
   "version": "3.7.7"
  },
  "latex_envs": {
   "LaTeX_envs_menu_present": true,
   "autoclose": false,
   "autocomplete": true,
   "bibliofile": "biblio.bib",
   "cite_by": "apalike",
   "current_citInitial": 1,
   "eqLabelWithNumbers": true,
   "eqNumInitial": 1,
   "hotkeys": {
    "equation": "Ctrl-E",
    "itemize": "Ctrl-I"
   },
   "labels_anchors": false,
   "latex_user_defs": false,
   "report_style_numbering": false,
   "user_envs_cfg": false
  },
  "toc": {
   "base_numbering": 1,
   "nav_menu": {},
   "number_sections": true,
   "sideBar": true,
   "skip_h1_title": false,
   "title_cell": "Table of Contents",
   "title_sidebar": "Contents",
   "toc_cell": false,
   "toc_position": {},
   "toc_section_display": true,
   "toc_window_display": true
  }
 },
 "nbformat": 4,
 "nbformat_minor": 1
}
