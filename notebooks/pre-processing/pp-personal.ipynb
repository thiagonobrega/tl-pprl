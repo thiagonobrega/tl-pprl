{
 "cells": [
  {
   "cell_type": "code",
   "execution_count": null,
   "metadata": {
    "slideshow": {
     "slide_type": "skip"
    }
   },
   "outputs": [],
   "source": [
    "import sys\n",
    "import zipfile\n",
    "import os\n",
    "\n",
    "import numpy as np\n",
    "import pandas as pd\n",
    "from IPython.display import display, HTML\n",
    "\n",
    "sys.path.append(\".\")\n",
    "\n",
    "from datasetutil import gerar_estatiscas_df, substituir_valores_nulos , verify_gg4cc , save_zip"
   ]
  },
  {
   "cell_type": "code",
   "execution_count": null,
   "metadata": {
    "slideshow": {
     "slide_type": "skip"
    }
   },
   "outputs": [],
   "source": [
    "\n",
    "CSS = \"\"\"\n",
    ".output {\n",
    "    flex-direction: row;\n",
    "}\n",
    "\"\"\"\n",
    "\n",
    "HTML('<style>{}</style>'.format(CSS))"
   ]
  },
  {
   "cell_type": "markdown",
   "metadata": {
    "slideshow": {
     "slide_type": "slide"
    }
   },
   "source": [
    "# Dataset Census \n",
    "\n",
    "Felix Nauman\n",
    "\n",
    "https://hpi.de/naumann/projects/repeatability/datasets/census-dataset.html"
   ]
  },
  {
   "cell_type": "code",
   "execution_count": null,
   "metadata": {
    "slideshow": {
     "slide_type": "skip"
    }
   },
   "outputs": [],
   "source": [
    "ds_files = 'D:\\Dados\\OneDrive\\Doutorado\\Datasets\\\\\\hpi.de_naumann\\\\\\census\\\\'\n",
    "\n",
    "dsa = 'census.tsv'\n",
    "gab = 'census_DPL.tsv'\n",
    "zip_file = 'processed_census.zip'\n",
    "\n",
    "df = pd.read_csv(ds_files+dsa,header=0,encoding=\"iso-8859-1\",sep=\"\\t\")\n",
    "dfg = pd.read_csv(ds_files+gab,header=0,encoding=\"iso-8859-1\",sep=\"\\t\")\n",
    "#df.info()\n",
    "# https://hpi.de/naumann/projects/repeatability/datasets/census-dataset.html"
   ]
  },
  {
   "cell_type": "markdown",
   "metadata": {
    "slideshow": {
     "slide_type": "slide"
    }
   },
   "source": [
    "## Estatisticas"
   ]
  },
  {
   "cell_type": "code",
   "execution_count": null,
   "metadata": {
    "slideshow": {
     "slide_type": "skip"
    }
   },
   "outputs": [],
   "source": [
    "nan_list = df.isnull().sum()\n",
    "df['zip_code'] = df['zip_code'].fillna(-1).astype(int)\n",
    "df['zip_code'] = df['zip_code'].astype(str)\n",
    "# df.describe(include='all')\n",
    "estatiscas = df.describe(include='object')\n",
    "a = gerar_estatiscas_df(nan_list,estatiscas)\n",
    "a.to_csv(ds_files+'estats_census.csv',sep=';')"
   ]
  },
  {
   "cell_type": "markdown",
   "metadata": {
    "slideshow": {
     "slide_type": "subslide"
    }
   },
   "source": [
    "Dataset para deduplicação com:"
   ]
  },
  {
   "cell_type": "markdown",
   "metadata": {
    "heading_collapsed": true,
    "slideshow": {
     "slide_type": "slide"
    }
   },
   "source": [
    "## Problemas nos dados\n"
   ]
  },
  {
   "cell_type": "code",
   "execution_count": null,
   "metadata": {
    "hidden": true,
    "slideshow": {
     "slide_type": "skip"
    }
   },
   "outputs": [],
   "source": [
    "df.zip_code = df.zip_code.replace('-1','')"
   ]
  },
  {
   "cell_type": "code",
   "execution_count": null,
   "metadata": {
    "hidden": true,
    "slideshow": {
     "slide_type": "skip"
    }
   },
   "outputs": [],
   "source": [
    "df = substituir_valores_nulos(df)"
   ]
  },
  {
   "cell_type": "code",
   "execution_count": null,
   "metadata": {
    "hidden": true,
    "slideshow": {
     "slide_type": "skip"
    }
   },
   "outputs": [],
   "source": [
    "da, db = verify_gg4cc(dfg)"
   ]
  },
  {
   "cell_type": "markdown",
   "metadata": {
    "hidden": true,
    "slideshow": {
     "slide_type": "subslide"
    }
   },
   "source": [
    "O gabarito não é de um dataset clean-clean"
   ]
  },
  {
   "cell_type": "code",
   "execution_count": null,
   "metadata": {
    "hidden": true,
    "slideshow": {
     "slide_type": "fragment"
    }
   },
   "outputs": [],
   "source": [
    "display(da.head(5))\n",
    "display(db.head(4))"
   ]
  },
  {
   "cell_type": "markdown",
   "metadata": {
    "slideshow": {
     "slide_type": "slide"
    }
   },
   "source": [
    "## Solução do problema"
   ]
  },
  {
   "cell_type": "code",
   "execution_count": null,
   "metadata": {
    "slideshow": {
     "slide_type": "subslide"
    }
   },
   "outputs": [],
   "source": [
    "remover = [3,4,149,150,166,167,43,487,581,582,624,676,698]"
   ]
  },
  {
   "cell_type": "code",
   "execution_count": null,
   "metadata": {},
   "outputs": [],
   "source": [
    "dfg"
   ]
  },
  {
   "cell_type": "code",
   "execution_count": null,
   "metadata": {
    "slideshow": {
     "slide_type": "skip"
    }
   },
   "outputs": [],
   "source": [
    "dfg = dfg[~dfg.id2.isin(remover)]\n",
    "dfg = dfg[~dfg.id1.isin(remover)]"
   ]
  },
  {
   "cell_type": "code",
   "execution_count": null,
   "metadata": {
    "slideshow": {
     "slide_type": "skip"
    }
   },
   "outputs": [],
   "source": [
    "cdf = df[~df.id.isin(remover)] \n",
    "#df.drop(remover)\n",
    "# len(df),len(cdf)\n",
    "cdf.zip_code = cdf.zip_code.astype(str)\n",
    "cdf"
   ]
  },
  {
   "cell_type": "code",
   "execution_count": null,
   "metadata": {},
   "outputs": [],
   "source": [
    "cdf.info()"
   ]
  },
  {
   "cell_type": "code",
   "execution_count": null,
   "metadata": {
    "slideshow": {
     "slide_type": "skip"
    }
   },
   "outputs": [],
   "source": [
    "save_zip(cdf,cdf,dfg,a,ds_files + zip_file)"
   ]
  },
  {
   "cell_type": "markdown",
   "metadata": {
    "slideshow": {
     "slide_type": "slide"
    }
   },
   "source": [
    "# Yad Vashem Entity Resolution Project Public Datasets"
   ]
  },
  {
   "cell_type": "markdown",
   "metadata": {
    "slideshow": {
     "slide_type": "subslide"
    }
   },
   "source": [
    "\n",
    "\n",
    "https://github.com/tomersagi/yv-er\n",
    "\n",
    "This repository contains datasets made public by the [Yad Vashem](http://www.yadvashem.org) foundation and [Hewlett Packard Labs](http://www.labs.hpe.com/israel/) to be used for Entity Resolution research. \n",
    "Data is provided as-is with no guarantees as to its quality and other properties. \n",
    "\n",
    "Repository Content\n",
    "The repository contains two datasets. \n",
    "\n",
    "1. A homogeneous dataset comprised of all records having **Italy** as the victim's place of residence. The Dataset contains 9499 records (italy_records.csv) and 12,749 tagged record pairs (italy_pairs.csv). \n",
    "2. A stratified random sample of the full Yad Vashem dataset. Six geographical regions where selected from the dataset, each representing a different pre-holocaust Jewish community. Differences were either cultural-linguistic or in the progression of persecution during WWII itself. This dataset contains 100,000 records. \n",
    "\n",
    "Record File Structure\n",
    "Each row in the file corresponds to a record. Fields are delimited by semi-colons. The first field in a row is the unique record-id in the Yad Vashem Names database. The rest are a bag of items prefixed by the item type. Item-types and their prefixes are described in the following table:\n",
    "\n",
    "Prefix | Item Type | Values\n",
    "------------ | ------------- | -------------\n",
    "F | First Name | Disambiguated first name\n",
    "L | Last Name / Surname | Disambiguated surname\n",
    "S | Source | Name of submission and submission year for pages of testimony, list name for lists\n",
    "G | Gender | 0-Male, 1-Female\n",
    "B1 | Birth Day | Calendar day of birth\n",
    "B2 | Birth Month | Calendar month of birth\n",
    "B3 | Birth Year | Calendar year of birth\n",
    "D1 | Birth Day | Calendar day of death\n",
    "D2 | Birth Month | Calendar month of death\n",
    "D3 | Birth Year | Calendar year of death\n",
    "BP1 | Birth City | Disambiguated city of birth\n",
    "BP2 | Birth County | Disambiguated county of birth\n",
    "BP3 | Birth Region | Disambiguated region of birth\n",
    "BP4 | Birth Country | Disambiguated country of birth\n",
    "PP1 | Permanent residence City | Disambiguated city of Permanent residence\n",
    "PP2 | Permanent residence County | Disambiguated county of Permanent residence\n",
    "PP3 | Permanent residence Region | Disambiguated region of Permanent residence\n",
    "PP4 | Permanent residence Country | Disambiguated country of Permanent residence\n",
    "WP1 | War-time residence City | Disambiguated city of War-time residence or Camp name\n",
    "WP2 | War-time residence County | Disambiguated county of War-time residence\n",
    "WP3 | War-time residence Region | Disambiguated region of War-time residence\n",
    "WP4 | War-time residence Country | Disambiguated country of War-time residence\n",
    "DP1 | Death City | Disambiguated city of death or camp name\n",
    "DP2 | Death County | Disambiguated county of death\n",
    "DP3 | Death Region | Disambiguated region of death or camp type\n",
    "DP4 | Death Country | Disambiguated country of death\n",
    "FF | Father's First Name | Disambiguated father's first name\n",
    "MF | Mother's First Name | Disambiguated mother's first name\n",
    "SN | Spouse's First Name | Disambiguated spouse's first name\n",
    "MN | Maiden Name | Disambiguated maiden surname\n",
    "MMN | Mother's Maiden Name | Disambiguated mother's maiden surname\n",
    "PR | Profession code | Code referring to the profession table (supplied separately)\n",
    "\n",
    "Record Pairs File Structure\n",
    "The pairs were tagged by Yad Vashem archival experts with one of the following tags: {1-Yes, 2-Probably Yes, 3-Maybe, 4-Probably No, 5-No}. The tagged pairs are admittedly a subset of the matching pairs in the dataset. We are continuously improving it and adding to the known true matches. Researchers wishing to contribute additional pairs for review by Yad Vashem are invited to do so by submitting an issue. We will make a best-effort attempt at reviewing these suggestions. "
   ]
  },
  {
   "cell_type": "markdown",
   "metadata": {
    "slideshow": {
     "slide_type": "skip"
    }
   },
   "source": [
    "## Lendo os dados"
   ]
  },
  {
   "cell_type": "code",
   "execution_count": null,
   "metadata": {
    "slideshow": {
     "slide_type": "skip"
    }
   },
   "outputs": [],
   "source": [
    "ds_files = 'D:\\Dados\\OneDrive\\Doutorado\\Datasets\\\\\\judeus\\\\\\yv-er\\\\'\n",
    "\n",
    "dsa = 'italy_records.csv'\n",
    "gab = 'italy_pairs.csv'\n",
    "zip_file = 'processed_yver.zip'\n",
    "\n",
    "# df = pd.read_csv(ds_files+dsa,encoding=\"iso-8859-1\",sep=\";\",\n",
    "#                  header=None,error_bad_lines=False)\n",
    "dfg = pd.read_csv(ds_files+gab,header=None\n",
    "                  ,encoding=\"iso-8859-1\",sep=\",\",\n",
    "                 error_bad_lines=False)"
   ]
  },
  {
   "cell_type": "markdown",
   "metadata": {},
   "source": [
    "## Processar os dados corretos"
   ]
  },
  {
   "cell_type": "code",
   "execution_count": null,
   "metadata": {
    "slideshow": {
     "slide_type": "skip"
    }
   },
   "outputs": [],
   "source": [
    "def processar_token(token,texto):\n",
    "    if texto.startswith(token,0,len(token)):\n",
    "        return texto.split(token)[1]\n",
    "    return None"
   ]
  },
  {
   "cell_type": "code",
   "execution_count": null,
   "metadata": {},
   "outputs": [],
   "source": [
    "file1 = open(ds_files+dsa, 'r') \n",
    "lines = file1.readlines() \n",
    "\n",
    "separador = ';'\n",
    "dados = []\n",
    "\n",
    "for line in lines: \n",
    "    cols = line.split(separador)\n",
    "    \n",
    "    id_ = cols[0]\n",
    "    bd = np.nan\n",
    "    bm = np.nan\n",
    "    by = np.nan\n",
    "    prof = ''\n",
    "    \n",
    "    for attr in cols[1:]:\n",
    "        if attr == '':\n",
    "            pass # valor nulo\n",
    "\n",
    "        token='G_'\n",
    "        if attr.startswith(token,0,2):\n",
    "            if ( attr.split(token)[1] == '1'):\n",
    "                sexo = 'Female'\n",
    "            else:\n",
    "                sexo = 'Male'\n",
    "\n",
    "        token='S_'\n",
    "        if (processar_token(token,attr) != None):\n",
    "            source = processar_token(token,attr)\n",
    "\n",
    "        token='L_'\n",
    "        if (processar_token(token,attr) != None):\n",
    "            lastname = processar_token(token,attr)\n",
    "\n",
    "        token='F_'\n",
    "        if (processar_token(token,attr) != None):\n",
    "            firstname = processar_token(token,attr)\n",
    "\n",
    "        token='B1_'\n",
    "        if (processar_token(token,attr) != None):\n",
    "            bd = processar_token(token,attr)\n",
    "\n",
    "        token='B2_'\n",
    "        if (processar_token(token,attr) != None):\n",
    "            bm = processar_token(token,attr)\n",
    "\n",
    "        token='B3_'\n",
    "        if (processar_token(token,attr) != None):\n",
    "            by = processar_token(token,attr)\n",
    "\n",
    "        token='PP1_'\n",
    "        if (processar_token(token,attr) != None):\n",
    "            city = processar_token(token,attr)\n",
    "\n",
    "        token='PP2_'\n",
    "        if (processar_token(token,attr) != None):\n",
    "            county = processar_token(token,attr)\n",
    "\n",
    "        token='PP3_'\n",
    "        if (processar_token(token,attr) != None):\n",
    "            region = processar_token(token,attr) \n",
    "\n",
    "        token='PP4_'\n",
    "        if (processar_token(token,attr) != None):\n",
    "            country = processar_token(token,attr)\n",
    "\n",
    "        token='PR_'\n",
    "        if (processar_token(token,attr) != None):\n",
    "            prof = processar_token(token,attr)\n",
    "\n",
    "        # fullbirth = bd + bm + by \n",
    "    #     print(firstname,lastname,sexo , by , city , county , region , country , prof)\n",
    "\n",
    "    linha = [ id_, source, firstname, lastname, sexo, bd , bm, by , city , county , region , country , prof]\n",
    "    dados.append(linha)"
   ]
  },
  {
   "cell_type": "code",
   "execution_count": null,
   "metadata": {},
   "outputs": [],
   "source": [
    "nomes = ['id', 'src','firstname','lastname', 'gender', 'bd' , 'bm', 'by' , 'city' , 'county' , 'region' , 'country' , 'prof']\n",
    "df = pd.DataFrame(dados,columns=nomes)\n",
    "nan_list = df.isnull().sum()\n",
    "estatiscas = df.describe(include='object')\n",
    "stats = gerar_estatiscas_df(nan_list,estatiscas)\n",
    "df = substituir_valores_nulos(df)\n",
    "df = df.astype(str)"
   ]
  },
  {
   "cell_type": "code",
   "execution_count": null,
   "metadata": {},
   "outputs": [],
   "source": [
    "len(lines),len(df)\n",
    "# for row in line.split(separador):\n",
    "#     print(row)\n",
    "#     pass\n",
    "# row"
   ]
  },
  {
   "cell_type": "markdown",
   "metadata": {
    "slideshow": {
     "slide_type": "slide"
    }
   },
   "source": [
    "## Estatisticas "
   ]
  },
  {
   "cell_type": "code",
   "execution_count": null,
   "metadata": {
    "slideshow": {
     "slide_type": "subslide"
    }
   },
   "outputs": [],
   "source": [
    "# df[df.id == 1013048]"
   ]
  },
  {
   "cell_type": "code",
   "execution_count": null,
   "metadata": {
    "slideshow": {
     "slide_type": "fragment"
    }
   },
   "outputs": [],
   "source": [
    "# stats"
   ]
  },
  {
   "cell_type": "markdown",
   "metadata": {
    "slideshow": {
     "slide_type": "slide"
    }
   },
   "source": [
    "## Problemas no Gabarito\n",
    "\n",
    "Não é clean-clean"
   ]
  },
  {
   "cell_type": "code",
   "execution_count": null,
   "metadata": {
    "slideshow": {
     "slide_type": "skip"
    }
   },
   "outputs": [],
   "source": [
    "dfg.columns = ['id1','id2','gs']"
   ]
  },
  {
   "cell_type": "code",
   "execution_count": null,
   "metadata": {
    "slideshow": {
     "slide_type": "skip"
    }
   },
   "outputs": [],
   "source": [
    "# df = dfg[dfg.c.isin([1,2])]"
   ]
  },
  {
   "cell_type": "code",
   "execution_count": null,
   "metadata": {},
   "outputs": [],
   "source": [
    "# a = df[df.id.isin(dfg.id1.unique())]\n",
    "# b = df[df.id.isin(dfg.id2.unique())]\n",
    "\n",
    "a = df\n",
    "b = df"
   ]
  },
  {
   "cell_type": "code",
   "execution_count": null,
   "metadata": {},
   "outputs": [],
   "source": [
    "dfg['is_match'] = 1\n",
    "dfg = dfg[dfg.gs != 3] # removing the maybe\n",
    "dfg.loc[dfg['gs'] == 2, 'is_match'] = 1\n",
    "dfg.loc[dfg['gs'] > 3 , 'is_match'] = 0\n",
    "\n",
    "del dfg['gs']"
   ]
  },
  {
   "cell_type": "markdown",
   "metadata": {
    "slideshow": {
     "slide_type": "skip"
    }
   },
   "source": [
    "## Salvando"
   ]
  },
  {
   "cell_type": "code",
   "execution_count": null,
   "metadata": {},
   "outputs": [],
   "source": [
    "save_zip(a,b,dfg,stats,ds_files + zip_file)"
   ]
  },
  {
   "cell_type": "code",
   "execution_count": null,
   "metadata": {},
   "outputs": [],
   "source": []
  }
 ],
 "metadata": {
  "kernelspec": {
   "display_name": "Python 3",
   "language": "python",
   "name": "python3"
  },
  "language_info": {
   "codemirror_mode": {
    "name": "ipython",
    "version": 3
   },
   "file_extension": ".py",
   "mimetype": "text/x-python",
   "name": "python",
   "nbconvert_exporter": "python",
   "pygments_lexer": "ipython3",
   "version": "3.7.7"
  },
  "latex_envs": {
   "LaTeX_envs_menu_present": true,
   "autoclose": false,
   "autocomplete": true,
   "bibliofile": "biblio.bib",
   "cite_by": "apalike",
   "current_citInitial": 1,
   "eqLabelWithNumbers": true,
   "eqNumInitial": 1,
   "hotkeys": {
    "equation": "Ctrl-E",
    "itemize": "Ctrl-I"
   },
   "labels_anchors": false,
   "latex_user_defs": false,
   "report_style_numbering": false,
   "user_envs_cfg": false
  },
  "toc": {
   "base_numbering": 1,
   "nav_menu": {},
   "number_sections": true,
   "sideBar": true,
   "skip_h1_title": false,
   "title_cell": "Table of Contents",
   "title_sidebar": "Contents",
   "toc_cell": false,
   "toc_position": {},
   "toc_section_display": true,
   "toc_window_display": false
  }
 },
 "nbformat": 4,
 "nbformat_minor": 1
}
