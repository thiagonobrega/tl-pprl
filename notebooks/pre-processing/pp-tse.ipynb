{
 "cells": [
  {
   "cell_type": "markdown",
   "metadata": {
    "slideshow": {
     "slide_type": "skip"
    }
   },
   "source": [
    "## Imports"
   ]
  },
  {
   "cell_type": "code",
   "execution_count": null,
   "metadata": {
    "slideshow": {
     "slide_type": "skip"
    }
   },
   "outputs": [],
   "source": [
    "import zipfile\n",
    "import os\n",
    "import sys\n",
    "import random\n",
    "\n",
    "import pandas as pd\n",
    "import numpy as np\n",
    "\n",
    "\n",
    "sys.path.append(\".\")\n",
    "\n",
    "from datasetutil import gerar_estatiscas_df, substituir_valores_nulos , verify_gg4cc , save_zip2"
   ]
  },
  {
   "cell_type": "markdown",
   "metadata": {
    "pycharm": {
     "is_executing": true
    },
    "slideshow": {
     "slide_type": "skip"
    }
   },
   "source": [
    "## Metodos"
   ]
  },
  {
   "cell_type": "code",
   "execution_count": null,
   "metadata": {
    "pycharm": {
     "is_executing": true
    },
    "slideshow": {
     "slide_type": "skip"
    }
   },
   "outputs": [],
   "source": [
    "def read_data(ano,ds_files):\n",
    "    zipf = 'consulta_cand_'+ano+'.zip' #2012\n",
    "    zf = zipfile.ZipFile(ds_files+zipf) \n",
    "    first = True\n",
    "\n",
    "    nl = zipfile.ZipFile.namelist(zf)\n",
    "    for i in range(0,len(nl)):\n",
    "        fn = nl[i]\n",
    "        if ('txt' in fn) or ('csv' in fn):\n",
    "            if not 'BRASIL' in fn:\n",
    "#                 print(fn)\n",
    "                z = pd.read_csv(zf.open(fn),header=0,encoding=\"iso-8859-1\",sep=\";\",\n",
    "                    error_bad_lines=False)\n",
    "                if first:\n",
    "                    first = False\n",
    "                    df = z\n",
    "                else:\n",
    "                    df = pd.concat([df, z])\n",
    "    return df"
   ]
  },
  {
   "cell_type": "code",
   "execution_count": null,
   "metadata": {
    "slideshow": {
     "slide_type": "skip"
    }
   },
   "outputs": [],
   "source": [
    "def computar_divergencias(a,b,inter,debug=-1):\n",
    "\n",
    "    atts = a.columns\n",
    "\n",
    "    resumo = []\n",
    "    \n",
    "    if debug <= -1:\n",
    "        l = len(inter)\n",
    "    else:\n",
    "        l = debug\n",
    "\n",
    "    for cpf in list(inter)[0:l]:\n",
    "        ra = a[a.NR_CPF_CANDIDATO == cpf]\n",
    "        rb = b[b.NR_CPF_CANDIDATO == cpf]\n",
    "        linha = {'cpf' : cpf}\n",
    "        if debug > -1:\n",
    "            print(ra.iloc[0][2] +'-'+ rb.iloc[0][2])\n",
    "        for att in range(2,len(a.columns)):\n",
    "            if (ra.iloc[0][att] != rb.iloc[0][att] ):\n",
    "                linha[atts[att]] = 1\n",
    "                if debug > -1:\n",
    "                    print('\\t['+atts[att]+'] ' + ra.iloc[0][att] +' -> '+  rb.iloc[0][att])\n",
    "        resumo.append(linha)\n",
    "        if debug > -1:\n",
    "            print(' ')\n",
    "    \n",
    "    return pd.DataFrame(resumo).fillna(0)"
   ]
  },
  {
   "cell_type": "markdown",
   "metadata": {
    "slideshow": {
     "slide_type": "skip"
    }
   },
   "source": [
    "## Leitura dos dados"
   ]
  },
  {
   "cell_type": "code",
   "execution_count": null,
   "metadata": {
    "slideshow": {
     "slide_type": "skip"
    }
   },
   "outputs": [],
   "source": [
    "ds_files = 'D:\\Dados\\OneDrive\\Doutorado\\Datasets\\\\tse\\\\'"
   ]
  },
  {
   "cell_type": "code",
   "execution_count": null,
   "metadata": {
    "slideshow": {
     "slide_type": "skip"
    }
   },
   "outputs": [],
   "source": [
    "# df08 = read_data('2008',ds_files)\n",
    "# len(df08)\n",
    "# df12 = read_data('2012',ds_files)\n",
    "# len(df12)\n",
    "# df = df08[df08[5] =='PB']\n",
    "# df = df[df[7] =='CAMPINA GRANDE']\n",
    "\n",
    "# # df = df12[df12[5] =='PB']\n",
    "# # df = df[df[7] =='CAMPINA GRANDE']\n",
    "# df.head(4).iloc[:,[21,20,22,23,5,7,10,14,13,25,36,30,32,34,36,37,39,27]]\n",
    "# df.head(4).iloc[:,[21,5,7,10,14,13,25,36,30,32,34,36,37,39,27]]\n",
    "# # nomes = ['UF','MUNICIPIO','ESTADO_CIVIL','NOME','APELIDO' ,'CPF1','PROFISSAO' ,'NASIMENTO','SEXO' ,'EDUCACAO','ESTADO_CIVIL' ,'NATURALIDADE','ESTADO' ,'CIDADE','CPF2' ,'','' ,'','' ,'',]\n",
    "# # df.iloc[:, [5,7,10,14,13,25,36,30,32,34,36,37,39,27]]"
   ]
  },
  {
   "cell_type": "code",
   "execution_count": null,
   "metadata": {
    "slideshow": {
     "slide_type": "skip"
    }
   },
   "outputs": [],
   "source": [
    "df14 = read_data('2014',ds_files)\n",
    "df18 = read_data('2018',ds_files)\n",
    "\n",
    "df14 = df14.iloc[:, [20,40,17,42,46,48,50,34,10,39,38,35,37,44,21]]\n",
    "df18 = df18.iloc[:, [20,40,17,42,46,48,50,34,10,39,38,35,37,44,21]]"
   ]
  },
  {
   "cell_type": "code",
   "execution_count": null,
   "metadata": {
    "slideshow": {
     "slide_type": "skip"
    }
   },
   "outputs": [],
   "source": [
    "inter = set(df14.iloc[:, 0 ]) & set(df18.iloc[:, 0 ])"
   ]
  },
  {
   "cell_type": "code",
   "execution_count": null,
   "metadata": {
    "slideshow": {
     "slide_type": "skip"
    }
   },
   "outputs": [],
   "source": [
    "a = df14\n",
    "b = df18\n",
    "\n",
    "inter_a = df14[df14.NR_CPF_CANDIDATO.isin(list(inter))]\n",
    "inter_b = df18[df18.NR_CPF_CANDIDATO.isin(list(inter))]\n",
    "\n",
    "only_a = df14[~df14.NR_CPF_CANDIDATO.isin(list(inter))]\n",
    "only_b = df18[~df18.NR_CPF_CANDIDATO.isin(list(inter))]"
   ]
  },
  {
   "cell_type": "code",
   "execution_count": null,
   "metadata": {},
   "outputs": [],
   "source": [
    "print('a =',len(a))\n",
    "print('b =',len(b))\n",
    "print('a ∩ b =',len(inter))\n",
    "print(len(inter_a),len(inter_b)) # dois cpf"
   ]
  },
  {
   "cell_type": "code",
   "execution_count": null,
   "metadata": {},
   "outputs": [],
   "source": [
    "ds_files = 'D:'+os.sep+'Dados'+os.sep+'OneDrive'+os.sep+'Doutorado'+os.sep+'workspace'+os.sep+'tl@pprl'+os.sep+'datasets'+os.sep\n",
    "ds_files += 'tse' + os.sep\n",
    "\n",
    "porcentagem_match = len(inter)/ (len(a) + len(b))\n",
    "porcentagem_unmatch = 1 - (porcentagem_match)\n",
    "\n",
    "\n",
    "for n in [2000,5000,10000,25000]:\n",
    "    # n = 2000\n",
    "    m = int(n * porcentagem_match)\n",
    "    um = int(n * porcentagem_unmatch)\n",
    "\n",
    "    int(um/2)\n",
    "\n",
    "    random_inter = random.sample(inter,m)\n",
    "    dups_a = a[a.NR_CPF_CANDIDATO.isin(list(random_inter))]\n",
    "    dups_b = b[b.NR_CPF_CANDIDATO.isin(list(random_inter))]\n",
    "\n",
    "\n",
    "    sdfa = pd.concat([only_a.sample(int(um/2)),\n",
    "                only_b.sample(int(um/2)),\n",
    "                dups_a\n",
    "                ])\n",
    "\n",
    "    sdfb = pd.concat([only_a.sample(int(um/2)),\n",
    "                only_b.sample(int(um/2)),\n",
    "                dups_b\n",
    "                ])\n",
    "\n",
    "    # gerando gabarito\n",
    "    linhas = []\n",
    "    for id_ in dups_a.NR_CPF_CANDIDATO.unique():\n",
    "        linha = {'id1':id_,'id2':id_}\n",
    "        linhas.append(linha)\n",
    "\n",
    "    gabarito = pd.DataFrame(linhas)\n",
    "\n",
    "    #gerando estatisticas\n",
    "    nan_list = sdfa.isnull().sum()\n",
    "    estatiscas = sdfa.describe(include='object')\n",
    "    est_a = gerar_estatiscas_df(nan_list,estatiscas)\n",
    "\n",
    "    nan_list = sdfb.isnull().sum()\n",
    "    estatiscas = sdfb.describe(include='object')\n",
    "    est_b = gerar_estatiscas_df(nan_list,estatiscas)\n",
    "\n",
    "    #filtrando dados\n",
    "    sdfa = sdfa.iloc[:,[0,2,3,4,7,11,12]]\n",
    "    sdfb = sdfb.iloc[:,[0,2,3,4,7,11,12]]\n",
    "\n",
    "    of = ds_files + 'processed_tse-'+str(n)+'-8.zip'\n",
    "    save_zip2(sdfa,sdfb,gabarito,est_a,est_b,of)"
   ]
  },
  {
   "cell_type": "markdown",
   "metadata": {},
   "source": [
    "estatisticas"
   ]
  },
  {
   "cell_type": "markdown",
   "metadata": {},
   "source": [
    "dados"
   ]
  },
  {
   "cell_type": "code",
   "execution_count": null,
   "metadata": {},
   "outputs": [],
   "source": [
    "z = computar_divergencias(sdfa,sdfb,random_inter)\n",
    "z.to_csv(ds_files+'sujeira_processed_tse-10k-8.csv', index=False)"
   ]
  },
  {
   "cell_type": "code",
   "execution_count": null,
   "metadata": {},
   "outputs": [],
   "source": [
    "z.sum()"
   ]
  },
  {
   "cell_type": "markdown",
   "metadata": {
    "heading_collapsed": true,
    "slideshow": {
     "slide_type": "slide"
    }
   },
   "source": [
    "# Estatisticas"
   ]
  },
  {
   "cell_type": "code",
   "execution_count": null,
   "metadata": {
    "hidden": true,
    "slideshow": {
     "slide_type": "skip"
    }
   },
   "outputs": [],
   "source": [
    "a = df14[df14.NR_CPF_CANDIDATO.isin(list(inter))]\n",
    "b = df18[df18.NR_CPF_CANDIDATO.isin(list(inter))]\n",
    "\n",
    "del a['NR_IDADE_DATA_POSSE']\n",
    "del b['NR_IDADE_DATA_POSSE']\n",
    "del a['NM_EMAIL']\n",
    "del b['NM_EMAIL']"
   ]
  },
  {
   "cell_type": "code",
   "execution_count": null,
   "metadata": {
    "hidden": true
   },
   "outputs": [],
   "source": [
    "print('a =',len(a))\n",
    "print('b =',len(b))\n",
    "print('a ∩ b =',len(inter))"
   ]
  },
  {
   "cell_type": "code",
   "execution_count": null,
   "metadata": {
    "hidden": true,
    "slideshow": {
     "slide_type": "subslide"
    }
   },
   "outputs": [],
   "source": [
    "print('a =',len(df14))\n",
    "print('b =',len(df18))\n",
    "print('a ∩ b =',len(a))"
   ]
  },
  {
   "cell_type": "code",
   "execution_count": null,
   "metadata": {
    "hidden": true,
    "slideshow": {
     "slide_type": "skip"
    }
   },
   "outputs": [],
   "source": [
    "resumo = computar_divergencias(a,b,inter)"
   ]
  },
  {
   "cell_type": "markdown",
   "metadata": {
    "hidden": true,
    "slideshow": {
     "slide_type": "slide"
    }
   },
   "source": [
    "### Estatiscas da Intercessão"
   ]
  },
  {
   "cell_type": "code",
   "execution_count": null,
   "metadata": {
    "hidden": true,
    "slideshow": {
     "slide_type": "subslide"
    }
   },
   "outputs": [],
   "source": [
    "resumo.drop('cpf',1).sum(), len(resumo)"
   ]
  },
  {
   "cell_type": "code",
   "execution_count": null,
   "metadata": {
    "hidden": true,
    "slideshow": {
     "slide_type": "subslide"
    }
   },
   "outputs": [],
   "source": [
    "z = computar_divergencias(a,b,inter,debug=10)"
   ]
  }
 ],
 "metadata": {
  "kernelspec": {
   "display_name": "Python 3",
   "language": "python",
   "name": "python3"
  },
  "language_info": {
   "codemirror_mode": {
    "name": "ipython",
    "version": 3
   },
   "file_extension": ".py",
   "mimetype": "text/x-python",
   "name": "python",
   "nbconvert_exporter": "python",
   "pygments_lexer": "ipython3",
   "version": "3.8.5"
  },
  "latex_envs": {
   "LaTeX_envs_menu_present": true,
   "autoclose": false,
   "autocomplete": true,
   "bibliofile": "biblio.bib",
   "cite_by": "apalike",
   "current_citInitial": 1,
   "eqLabelWithNumbers": true,
   "eqNumInitial": 1,
   "hotkeys": {
    "equation": "Ctrl-E",
    "itemize": "Ctrl-I"
   },
   "labels_anchors": false,
   "latex_user_defs": false,
   "report_style_numbering": false,
   "user_envs_cfg": false
  },
  "toc": {
   "base_numbering": 1,
   "nav_menu": {},
   "number_sections": true,
   "sideBar": true,
   "skip_h1_title": false,
   "title_cell": "Table of Contents",
   "title_sidebar": "Contents",
   "toc_cell": false,
   "toc_position": {},
   "toc_section_display": true,
   "toc_window_display": false
  }
 },
 "nbformat": 4,
 "nbformat_minor": 1
}
