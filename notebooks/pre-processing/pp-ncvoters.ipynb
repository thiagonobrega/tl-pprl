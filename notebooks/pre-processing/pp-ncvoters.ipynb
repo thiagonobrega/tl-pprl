{
 "cells": [
  {
   "cell_type": "code",
   "execution_count": null,
   "metadata": {},
   "outputs": [],
   "source": [
    "import sys\n",
    "import zipfile\n",
    "import os\n",
    "from random import sample \n",
    "\n",
    "import numpy as np\n",
    "import pandas as pd\n",
    "from IPython.display import display, HTML\n",
    "\n",
    "# sys.path.append(\"../../libs/\")\n",
    "sys.path.append(\".\")\n",
    "\n",
    "from datasetutil import gerar_estatiscas_df, substituir_valores_nulos , verify_gg4cc , save_zip2"
   ]
  },
  {
   "cell_type": "markdown",
   "metadata": {},
   "source": [
    "## Metodos"
   ]
  },
  {
   "cell_type": "code",
   "execution_count": null,
   "metadata": {
    "pycharm": {
     "name": "#%%\n"
    }
   },
   "outputs": [],
   "source": [
    "def read(zinput):\n",
    "    '''\n",
    "        Ler zip com os datasets\n",
    "    '''\n",
    "    zf = zipfile.ZipFile(zinput) \n",
    "\n",
    "    scol = [68,2,10,11,9,28,29,13,14,15,1,16]\n",
    "\n",
    "    df = pd.read_csv(zf.open(zipfile.ZipFile.namelist(zf)[0]),header=0,\n",
    "                encoding=\"iso-8859-1\",sep=\"\\t\",\n",
    "                usecols=scol,\n",
    "    #             chunksize=640000000,\n",
    "                error_bad_lines=False)#,\n",
    "#             nrows=15)\n",
    "    return df.iloc[:, [11,1,3,4,2,9,10,5,6,0,7,8,]]\n",
    "\n",
    "# df.iloc[:, [68,2,10,11,9,28,29,13,14,15,1,16]]"
   ]
  },
  {
   "cell_type": "code",
   "execution_count": null,
   "metadata": {},
   "outputs": [],
   "source": [
    "def gerar_ds(set_a,set_b,n=5000,m=.5):\n",
    "    '''\n",
    "    Recupera um conjunto com os ids das entidades que serão utilizadas no \n",
    "    conjunto a, conjunto b e gabarito\n",
    "    \n",
    "    '''\n",
    "    \n",
    "    um = 1 - m\n",
    "    \n",
    "    total_m = int(n * m)\n",
    "    total_um = int(n * um)\n",
    "    \n",
    "    inter_ab = list(set_a & set_b)\n",
    "    \n",
    "    nb = set_a.difference(inter_ab)\n",
    "    na = set_b.difference(inter_ab)\n",
    "    \n",
    "    matches = sample(inter_ab, total_m)\n",
    "    unmatch_a = sample(nb, total_um)\n",
    "    unmatch_b = sample(na, total_um)\n",
    "    \n",
    "    return matches + unmatch_a, matches + unmatch_b , matches"
   ]
  },
  {
   "cell_type": "code",
   "execution_count": null,
   "metadata": {},
   "outputs": [],
   "source": [
    "def popular_ds(dsa,dsb,list_a,list_b,gab):\n",
    "    '''\n",
    "        Monta o dataset com base nas listas\n",
    "        \n",
    "        @return dataset a\n",
    "        @return dataset b\n",
    "        @return goldstanrd\n",
    "    '''\n",
    "    za = dsa[dsa.ncid.isin(list_a)]\n",
    "    zb = dsb[dsb.ncid.isin(list_b)]\n",
    "\n",
    "    gs = pd.DataFrame(list(zip(gab)),columns=['id1'])\n",
    "    gs['id2'] = gs.id1\n",
    "    return za, zb , gs\n",
    "\n",
    "def save_all(dsa,dsb,gs,outfile):\n",
    "    '''\n",
    "    Salva tudo em um zip\n",
    "    '''\n",
    "    \n",
    "    n_a = dsa.isnull().sum()\n",
    "    s_a = dsa.describe(include='object')\n",
    "    n_b = dsb.isnull().sum()\n",
    "    s_b = dsb.describe(include='object')\n",
    "    \n",
    "    sa = gerar_estatiscas_df(n_a,s_a)\n",
    "    sb = gerar_estatiscas_df(n_b,s_b)\n",
    "    \n",
    "    dfa = substituir_valores_nulos(dsa)\n",
    "    dfb = substituir_valores_nulos(dsb)\n",
    "    \n",
    "    save_zip2(dfa,dfb,gs,sa,sb,outfile)"
   ]
  },
  {
   "cell_type": "markdown",
   "metadata": {},
   "source": [
    "## Leitura dos dados"
   ]
  },
  {
   "cell_type": "code",
   "execution_count": null,
   "metadata": {},
   "outputs": [],
   "source": [
    "ds_files = 'D:\\Dados\\OneDrive\\Doutorado\\Datasets\\\\NCVR\\\\'\n",
    "fa = 'ncvoter_Statewide_18102016.zip'\n",
    "fb = 'ncvoter_Statewide_31052020.zip'"
   ]
  },
  {
   "cell_type": "code",
   "execution_count": null,
   "metadata": {},
   "outputs": [],
   "source": [
    "a = read(ds_files + fa)"
   ]
  },
  {
   "cell_type": "code",
   "execution_count": null,
   "metadata": {},
   "outputs": [],
   "source": [
    "b = read(ds_files + fb)"
   ]
  },
  {
   "cell_type": "markdown",
   "metadata": {},
   "source": [
    "## gerando os datasets"
   ]
  },
  {
   "cell_type": "code",
   "execution_count": null,
   "metadata": {},
   "outputs": [],
   "source": [
    "sa = set(a.ncid.unique())\n",
    "sb = set(b.ncid.unique())"
   ]
  },
  {
   "cell_type": "code",
   "execution_count": null,
   "metadata": {},
   "outputs": [],
   "source": [
    "ds_files = 'D:'+os.sep+'Dados'+os.sep+'OneDrive'+os.sep+'Doutorado'+os.sep+'workspace'+os.sep+'tl@pprl'+os.sep+'datasets'\n",
    "# ds_files = 'D:\\Dados\\OneDrive\\Doutorado\\Datasets\\\\NCVR\\\\'\n",
    "ds_files = 'D:'+os.sep+'Dados'+os.sep+'OneDrive'+os.sep+'Doutorado'+os.sep+'workspace'+os.sep+'tl@pprl'+os.sep+'datasets'+os.sep\n",
    "ds_files += 'ncvr' + os.sep\n",
    "\n",
    "prefix = 'ncvoters_'\n",
    "sufix = '.zip'\n",
    "\n",
    "for n in [ 1000, 10000, 50000, 100000, 500000]:\n",
    "    for i in [.1]:\n",
    "        la,lb , gab = gerar_ds(sa,sb,m=i,n=n)\n",
    "        dsa , dsb , gs = popular_ds(a,b,la,lb,gab)\n",
    "        of = ds_files + prefix + str(n) +\"_\"+ str(i)+sufix\n",
    "        save_all(dsa,dsb,gs,of)\n",
    "        print(of)\n",
    "    "
   ]
  },
  {
   "cell_type": "markdown",
   "metadata": {
    "heading_collapsed": true
   },
   "source": [
    "## Scratch"
   ]
  },
  {
   "cell_type": "code",
   "execution_count": null,
   "metadata": {
    "hidden": true
   },
   "outputs": [],
   "source": [
    "b[b.ncid == inter_ab[1090]]"
   ]
  },
  {
   "cell_type": "code",
   "execution_count": null,
   "metadata": {
    "hidden": true
   },
   "outputs": [],
   "source": []
  },
  {
   "cell_type": "code",
   "execution_count": null,
   "metadata": {
    "hidden": true
   },
   "outputs": [],
   "source": [
    "def "
   ]
  },
  {
   "cell_type": "code",
   "execution_count": null,
   "metadata": {
    "hidden": true
   },
   "outputs": [],
   "source": [
    "za = a[a.ncid.isin(z)]"
   ]
  },
  {
   "cell_type": "code",
   "execution_count": null,
   "metadata": {
    "hidden": true
   },
   "outputs": [],
   "source": [
    "m = pd.DataFrame(list(zip(gab)),columns=['id1'])\n",
    "m['id2'] = m.id1"
   ]
  },
  {
   "cell_type": "code",
   "execution_count": null,
   "metadata": {
    "hidden": true
   },
   "outputs": [],
   "source": [
    "m"
   ]
  },
  {
   "cell_type": "code",
   "execution_count": null,
   "metadata": {
    "hidden": true
   },
   "outputs": [],
   "source": []
  }
 ],
 "metadata": {
  "kernelspec": {
   "display_name": "Python 3",
   "language": "python",
   "name": "python3"
  },
  "language_info": {
   "codemirror_mode": {
    "name": "ipython",
    "version": 3
   },
   "file_extension": ".py",
   "mimetype": "text/x-python",
   "name": "python",
   "nbconvert_exporter": "python",
   "pygments_lexer": "ipython3",
   "version": "3.8.5"
  },
  "latex_envs": {
   "LaTeX_envs_menu_present": true,
   "autoclose": false,
   "autocomplete": true,
   "bibliofile": "biblio.bib",
   "cite_by": "apalike",
   "current_citInitial": 1,
   "eqLabelWithNumbers": true,
   "eqNumInitial": 1,
   "hotkeys": {
    "equation": "Ctrl-E",
    "itemize": "Ctrl-I"
   },
   "labels_anchors": false,
   "latex_user_defs": false,
   "report_style_numbering": false,
   "user_envs_cfg": false
  },
  "toc": {
   "base_numbering": 1,
   "nav_menu": {},
   "number_sections": true,
   "sideBar": true,
   "skip_h1_title": false,
   "title_cell": "Table of Contents",
   "title_sidebar": "Contents",
   "toc_cell": false,
   "toc_position": {},
   "toc_section_display": true,
   "toc_window_display": false
  }
 },
 "nbformat": 4,
 "nbformat_minor": 1
}
